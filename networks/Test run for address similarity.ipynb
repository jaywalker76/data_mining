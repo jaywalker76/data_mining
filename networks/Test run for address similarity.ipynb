{
 "cells": [
  {
   "cell_type": "code",
   "execution_count": 1,
   "metadata": {
    "collapsed": true
   },
   "outputs": [],
   "source": [
    "import pandas as pd\n",
    "import networkx as nx\n",
    "import matplotlib.pyplot as plt\n",
    "from nltk.metrics.distance import edit_distance"
   ]
  },
  {
   "cell_type": "code",
   "execution_count": 2,
   "metadata": {
    "collapsed": true
   },
   "outputs": [],
   "source": [
    "G = nx.DiGraph()\n"
   ]
  },
  {
   "cell_type": "code",
   "execution_count": 3,
   "metadata": {
    "collapsed": false
   },
   "outputs": [
    {
     "name": "stderr",
     "output_type": "stream",
     "text": [
      "/home/tbonza/.conda/envs/kaggle3/lib/python3.5/site-packages/IPython/core/interactiveshell.py:2902: DtypeWarning: Columns (23) have mixed types. Specify dtype option on import or set low_memory=False.\n",
      "  interactivity=interactivity, compiler=compiler, result=result)\n"
     ]
    }
   ],
   "source": [
    "data = pd.read_csv('data/Food_Establishment_Inspections.csv')"
   ]
  },
  {
   "cell_type": "code",
   "execution_count": 4,
   "metadata": {
    "collapsed": false
   },
   "outputs": [
    {
     "name": "stdout",
     "output_type": "stream",
     "text": [
      "Index(['BusinessName', 'DBAName', 'LegalOwner', 'NameLast', 'NameFirst',\n",
      "       'LICENSENO', 'ISSDTTM', 'EXPDTTM', 'LICSTATUS', 'LICENSECAT',\n",
      "       'DESCRIPT', 'RESULT', 'RESULTDTTM', 'Violation', 'ViolLevel',\n",
      "       'ViolDesc', 'VIOLDTTM', 'ViolStatus', 'StatusDate', 'Comments',\n",
      "       'Address', 'City', 'State', 'Zip', 'Property_ID', 'Location'],\n",
      "      dtype='object')\n"
     ]
    }
   ],
   "source": [
    "address = ['Address','City','State','Zip']\n",
    "print(data.columns)\n"
   ]
  },
  {
   "cell_type": "code",
   "execution_count": 5,
   "metadata": {
    "collapsed": false
   },
   "outputs": [
    {
     "name": "stdout",
     "output_type": "stream",
     "text": [
      "('1000   Washington ST', 'Roxbury', 'MA', '02118')\n"
     ]
    }
   ],
   "source": [
    "address_data = [tuple(x) for x in data[address].values]\n",
    "print(address_data[0])"
   ]
  },
  {
   "cell_type": "code",
   "execution_count": null,
   "metadata": {
    "collapsed": false
   },
   "outputs": [],
   "source": [
    "# Sweet, let's build the directed graph"
   ]
  },
  {
   "cell_type": "code",
   "execution_count": null,
   "metadata": {
    "collapsed": true
   },
   "outputs": [],
   "source": [
    "G.add_nodes_from(address_data)"
   ]
  },
  {
   "cell_type": "code",
   "execution_count": null,
   "metadata": {
    "collapsed": false
   },
   "outputs": [],
   "source": [
    "G.nodes"
   ]
  },
  {
   "cell_type": "code",
   "execution_count": null,
   "metadata": {
    "collapsed": false
   },
   "outputs": [],
   "source": [
    "def simple_graph():\n",
    "    #create an empty graph\n",
    "    G = nx.Graph()\n",
    "    \n",
    "    #add three edges\n",
    "    G.add_edge('A','B');\n",
    "    G.add_edge('B','C');\n",
    "    G.add_edge('C','A');\n",
    "\n",
    "    #draw the graph\n",
    "    nx.draw(G)\n",
    "\n",
    "    #show\n",
    "    plt.show()\n",
    "    \n",
    "    "
   ]
  },
  {
   "cell_type": "code",
   "execution_count": null,
   "metadata": {
    "collapsed": false
   },
   "outputs": [],
   "source": [
    "simple_graph()"
   ]
  },
  {
   "cell_type": "code",
   "execution_count": 7,
   "metadata": {
    "collapsed": true
   },
   "outputs": [],
   "source": [
    "def address_graph(data):\n",
    "    # create an empty graph\n",
    "    G = nx.Graph()\n",
    "    \n",
    "    # add some nodes\n",
    "    address_data = [str(x) for x in data[address].values].sort()\n",
    "    \n",
    "    # add some edges\n",
    "    while address_data:\n",
    "        \n",
    "        if len(address_data) >= 2:\n",
    "            first = address_data.pop()\n",
    "            second = address_data[0]\n",
    "            \n",
    "            G.add_node(first)\n",
    "            \n",
    "            dist = edit_distance(first, second)\n",
    "            \n",
    "            G.add_edge(first, second)\n",
    "    \n",
    "    # draw the graph\n",
    "    nx.draw(G)\n",
    "    \n",
    "    #show\n",
    "    plt.show()\n",
    "    "
   ]
  },
  {
   "cell_type": "code",
   "execution_count": null,
   "metadata": {
    "collapsed": false
   },
   "outputs": [],
   "source": [
    "address_graph(data)"
   ]
  },
  {
   "cell_type": "code",
   "execution_count": null,
   "metadata": {
    "collapsed": true
   },
   "outputs": [],
   "source": []
  }
 ],
 "metadata": {
  "kernelspec": {
   "display_name": "Python 3",
   "language": "python",
   "name": "python3"
  },
  "language_info": {
   "codemirror_mode": {
    "name": "ipython",
    "version": 3
   },
   "file_extension": ".py",
   "mimetype": "text/x-python",
   "name": "python",
   "nbconvert_exporter": "python",
   "pygments_lexer": "ipython3",
   "version": "3.5.1"
  }
 },
 "nbformat": 4,
 "nbformat_minor": 0
}
