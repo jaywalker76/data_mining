{
 "cells": [
  {
   "cell_type": "code",
   "execution_count": 1,
   "metadata": {
    "collapsed": true
   },
   "outputs": [],
   "source": [
    "import pandas as pd\n",
    "from nltk.metrics.distance import edit_distance\n",
    "from itertools import combinations\n"
   ]
  },
  {
   "cell_type": "code",
   "execution_count": 2,
   "metadata": {
    "collapsed": false
   },
   "outputs": [
    {
     "name": "stderr",
     "output_type": "stream",
     "text": [
      "/home/tbonza/.conda/envs/kaggle3/lib/python3.5/site-packages/IPython/core/interactiveshell.py:2902: DtypeWarning: Columns (23) have mixed types. Specify dtype option on import or set low_memory=False.\n",
      "  interactivity=interactivity, compiler=compiler, result=result)\n"
     ]
    }
   ],
   "source": [
    "data = pd.read_csv('data/Food_Establishment_Inspections.csv')"
   ]
  },
  {
   "cell_type": "code",
   "execution_count": 3,
   "metadata": {
    "collapsed": true
   },
   "outputs": [],
   "source": [
    "address = ['Address','City','State','Zip']\n",
    "adddress_data = data[address]"
   ]
  },
  {
   "cell_type": "code",
   "execution_count": 4,
   "metadata": {
    "collapsed": false
   },
   "outputs": [],
   "source": [
    "buckets = {}\n",
    "\n",
    "for x in data[address].values:\n",
    "    addy, city, state, zipp = tuple(x)\n",
    "    \n",
    "    if addy in buckets:\n",
    "        buckets[city].append(tuple(x))\n",
    "        \n",
    "    else:\n",
    "        buckets[city] = [tuple(x)]\n",
    "\n",
    "#address_data = [tuple(x) for x in data[address].values]"
   ]
  },
  {
   "cell_type": "code",
   "execution_count": 5,
   "metadata": {
    "collapsed": false
   },
   "outputs": [
    {
     "data": {
      "text/plain": [
       "52"
      ]
     },
     "execution_count": 5,
     "metadata": {},
     "output_type": "execute_result"
    }
   ],
   "source": [
    "len(buckets)"
   ]
  },
  {
   "cell_type": "code",
   "execution_count": 6,
   "metadata": {
    "collapsed": false
   },
   "outputs": [],
   "source": [
    "def merge_buckets(fbucket, second_bucket, nbuckets, buckets):\n",
    "    \n",
    "    if fbucket in nbuckets:\n",
    "        \n",
    "        nbuckets[fbucket].extend(buckets[second_bucket])\n",
    "        \n",
    "    else:\n",
    "        \n",
    "        nbuckets[fbucket] = buckets[second_bucket]\n",
    "        \n",
    "    return nbuckets\n",
    "    \n",
    "def close_enough_buckets(first_bucket, second_bucket, dist):\n",
    "    \n",
    "    if first_bucket == second_bucket:\n",
    "        return False\n",
    "    \n",
    "    elif edit_distance(first_bucket, second_bucket) <= dist:\n",
    "        return True\n",
    "    \n",
    "    else:\n",
    "        return False\n",
    "\n",
    "def merge_similar_buckets(buckets, dist):\n",
    "    \n",
    "    nbuckets = {}\n",
    "    \n",
    "    for first_bucket in buckets.keys():\n",
    "        \n",
    "        sim = False\n",
    "\n",
    "        for second_bucket in buckets.keys():\n",
    "            \n",
    "            if type(first_bucket) == str and \\\n",
    "            type(second_bucket) == str:\n",
    "                \n",
    "                fbucket = first_bucket.upper()\n",
    "                sbucket = second_bucket.upper()\n",
    "            \n",
    "                if close_enough_buckets(fbucket, sbucket, dist):\n",
    "                \n",
    "                    sim = True\n",
    "                \n",
    "                    nbuckets = merge_buckets(fbucket, second_bucket, \n",
    "                                             nbuckets, buckets)\n",
    "                \n",
    "        if not sim:\n",
    "            \n",
    "            if type(first_bucket) == str:\n",
    "                fbucket = first_bucket.upper()\n",
    "            else:\n",
    "                fbucket = \"\"\n",
    "                \n",
    "            nbuckets[fbucket] = buckets[first_bucket]\n",
    "             \n",
    "    return nbuckets\n",
    "        "
   ]
  },
  {
   "cell_type": "code",
   "execution_count": 7,
   "metadata": {
    "collapsed": false
   },
   "outputs": [],
   "source": [
    "addy_buckets = merge_similar_buckets(buckets, 5)"
   ]
  },
  {
   "cell_type": "markdown",
   "metadata": {},
   "source": [
    "# Find similar addresses\n",
    "\n",
    "Find similar addresses by looking within each bucket. If an \n",
    "address is similar, then place the similar addresses in a \n",
    "numbered cluster. Clusters will be placed in a dictionary where\n",
    "each key is mapped to a number."
   ]
  },
  {
   "cell_type": "code",
   "execution_count": 13,
   "metadata": {
    "collapsed": true
   },
   "outputs": [],
   "source": [
    "\n",
    "def merge_clusters(cluster, clusters, item):\n",
    "    \"\"\" Merge clusters from addy_list \"\"\"\n",
    "    \n",
    "    if cluster in clusters:\n",
    "        \n",
    "        clusters[cluster].extend(item)\n",
    "        \n",
    "    else:\n",
    "        clusters[cluster] = [item]\n",
    "        \n",
    "    return clusters\n",
    "\n",
    "\n",
    "def check_sim(addy_list, dist, cluster, clusters):\n",
    "    \"\"\" Check a list of addresses for string similarity \"\"\"\n",
    "    \n",
    "    for item in addy_list:\n",
    "        \n",
    "        sim = False\n",
    "        \n",
    "        for pair in addy_list:\n",
    "            \n",
    "            sitem = str(item)\n",
    "            spair = str(pair)\n",
    "                \n",
    "            if close_enough_buckets(sitem, spair, dist):\n",
    "                \n",
    "                sim = True\n",
    "                \n",
    "                clusters = merge_clusters(cluster, clusters, \n",
    "                                          item)\n",
    "                \n",
    "        if not sim:\n",
    "            \n",
    "            other = cluster + 1\n",
    "            clusters[other] = item\n",
    "            \n",
    "    return clusters\n",
    "\n",
    "def cluster_addresses(addy_buckets, dist):\n",
    "    clusters = {}\n",
    "    cluster = 0\n",
    "        \n",
    "    for key in addy_buckets.keys():\n",
    "        \n",
    "        clusters = check_sim(addy_list= addy_buckets[key], \n",
    "                      dist = 5, cluster = cluster, \n",
    "                      clusters = clusters)\n",
    "        \n",
    "    return clusters"
   ]
  },
  {
   "cell_type": "code",
   "execution_count": 14,
   "metadata": {
    "collapsed": false
   },
   "outputs": [
    {
     "ename": "KeyboardInterrupt",
     "evalue": "",
     "output_type": "error",
     "traceback": [
      "\u001b[1;31m---------------------------------------------------------------------------\u001b[0m",
      "\u001b[1;31mKeyboardInterrupt\u001b[0m                         Traceback (most recent call last)",
      "\u001b[1;32m<ipython-input-14-1ac6314f62aa>\u001b[0m in \u001b[0;36m<module>\u001b[1;34m()\u001b[0m\n\u001b[1;32m----> 1\u001b[1;33m \u001b[0mclusters\u001b[0m \u001b[1;33m=\u001b[0m \u001b[0mcluster_addresses\u001b[0m\u001b[1;33m(\u001b[0m\u001b[0maddy_buckets\u001b[0m\u001b[1;33m=\u001b[0m \u001b[0maddy_buckets\u001b[0m\u001b[1;33m,\u001b[0m \u001b[0mdist\u001b[0m\u001b[1;33m=\u001b[0m\u001b[1;36m5\u001b[0m\u001b[1;33m)\u001b[0m\u001b[1;33m\u001b[0m\u001b[0m\n\u001b[0m",
      "\u001b[1;32m<ipython-input-13-ab4dd3152b3c>\u001b[0m in \u001b[0;36mcluster_addresses\u001b[1;34m(addy_buckets, dist)\u001b[0m\n\u001b[0;32m     47\u001b[0m         clusters = check_sim(addy_list= addy_buckets[key], \n\u001b[0;32m     48\u001b[0m                       \u001b[0mdist\u001b[0m \u001b[1;33m=\u001b[0m \u001b[1;36m5\u001b[0m\u001b[1;33m,\u001b[0m \u001b[0mcluster\u001b[0m \u001b[1;33m=\u001b[0m \u001b[0mcluster\u001b[0m\u001b[1;33m,\u001b[0m\u001b[1;33m\u001b[0m\u001b[0m\n\u001b[1;32m---> 49\u001b[1;33m                       clusters = clusters)\n\u001b[0m\u001b[0;32m     50\u001b[0m \u001b[1;33m\u001b[0m\u001b[0m\n\u001b[0;32m     51\u001b[0m     \u001b[1;32mreturn\u001b[0m \u001b[0mclusters\u001b[0m\u001b[1;33m\u001b[0m\u001b[0m\n",
      "\u001b[1;32m<ipython-input-13-ab4dd3152b3c>\u001b[0m in \u001b[0;36mcheck_sim\u001b[1;34m(addy_list, dist, cluster, clusters)\u001b[0m\n\u001b[0;32m     25\u001b[0m             \u001b[0mspair\u001b[0m \u001b[1;33m=\u001b[0m \u001b[0mstr\u001b[0m\u001b[1;33m(\u001b[0m\u001b[0mpair\u001b[0m\u001b[1;33m)\u001b[0m\u001b[1;33m\u001b[0m\u001b[0m\n\u001b[0;32m     26\u001b[0m \u001b[1;33m\u001b[0m\u001b[0m\n\u001b[1;32m---> 27\u001b[1;33m             \u001b[1;32mif\u001b[0m \u001b[0mclose_enough_buckets\u001b[0m\u001b[1;33m(\u001b[0m\u001b[0msitem\u001b[0m\u001b[1;33m,\u001b[0m \u001b[0mspair\u001b[0m\u001b[1;33m,\u001b[0m \u001b[0mdist\u001b[0m\u001b[1;33m)\u001b[0m\u001b[1;33m:\u001b[0m\u001b[1;33m\u001b[0m\u001b[0m\n\u001b[0m\u001b[0;32m     28\u001b[0m \u001b[1;33m\u001b[0m\u001b[0m\n\u001b[0;32m     29\u001b[0m                 \u001b[0msim\u001b[0m \u001b[1;33m=\u001b[0m \u001b[1;32mTrue\u001b[0m\u001b[1;33m\u001b[0m\u001b[0m\n",
      "\u001b[1;32m<ipython-input-6-ab0a401fc8ff>\u001b[0m in \u001b[0;36mclose_enough_buckets\u001b[1;34m(first_bucket, second_bucket, dist)\u001b[0m\n\u001b[0;32m     16\u001b[0m         \u001b[1;32mreturn\u001b[0m \u001b[1;32mFalse\u001b[0m\u001b[1;33m\u001b[0m\u001b[0m\n\u001b[0;32m     17\u001b[0m \u001b[1;33m\u001b[0m\u001b[0m\n\u001b[1;32m---> 18\u001b[1;33m     \u001b[1;32melif\u001b[0m \u001b[0medit_distance\u001b[0m\u001b[1;33m(\u001b[0m\u001b[0mfirst_bucket\u001b[0m\u001b[1;33m,\u001b[0m \u001b[0msecond_bucket\u001b[0m\u001b[1;33m)\u001b[0m \u001b[1;33m<=\u001b[0m \u001b[0mdist\u001b[0m\u001b[1;33m:\u001b[0m\u001b[1;33m\u001b[0m\u001b[0m\n\u001b[0m\u001b[0;32m     19\u001b[0m         \u001b[1;32mreturn\u001b[0m \u001b[1;32mTrue\u001b[0m\u001b[1;33m\u001b[0m\u001b[0m\n\u001b[0;32m     20\u001b[0m \u001b[1;33m\u001b[0m\u001b[0m\n",
      "\u001b[1;32m/home/tbonza/.conda/envs/kaggle3/lib/python3.5/site-packages/nltk/metrics/distance.py\u001b[0m in \u001b[0;36medit_distance\u001b[1;34m(s1, s2, transpositions)\u001b[0m\n\u001b[0;32m     83\u001b[0m     \u001b[1;32mfor\u001b[0m \u001b[0mi\u001b[0m \u001b[1;32min\u001b[0m \u001b[0mrange\u001b[0m\u001b[1;33m(\u001b[0m\u001b[0mlen1\u001b[0m\u001b[1;33m)\u001b[0m\u001b[1;33m:\u001b[0m\u001b[1;33m\u001b[0m\u001b[0m\n\u001b[0;32m     84\u001b[0m         \u001b[1;32mfor\u001b[0m \u001b[0mj\u001b[0m \u001b[1;32min\u001b[0m \u001b[0mrange\u001b[0m\u001b[1;33m(\u001b[0m\u001b[0mlen2\u001b[0m\u001b[1;33m)\u001b[0m\u001b[1;33m:\u001b[0m\u001b[1;33m\u001b[0m\u001b[0m\n\u001b[1;32m---> 85\u001b[1;33m             \u001b[0m_edit_dist_step\u001b[0m\u001b[1;33m(\u001b[0m\u001b[0mlev\u001b[0m\u001b[1;33m,\u001b[0m \u001b[0mi\u001b[0m \u001b[1;33m+\u001b[0m \u001b[1;36m1\u001b[0m\u001b[1;33m,\u001b[0m \u001b[0mj\u001b[0m \u001b[1;33m+\u001b[0m \u001b[1;36m1\u001b[0m\u001b[1;33m,\u001b[0m \u001b[0ms1\u001b[0m\u001b[1;33m,\u001b[0m \u001b[0ms2\u001b[0m\u001b[1;33m,\u001b[0m \u001b[0mtranspositions\u001b[0m\u001b[1;33m=\u001b[0m\u001b[0mtranspositions\u001b[0m\u001b[1;33m)\u001b[0m\u001b[1;33m\u001b[0m\u001b[0m\n\u001b[0m\u001b[0;32m     86\u001b[0m     \u001b[1;32mreturn\u001b[0m \u001b[0mlev\u001b[0m\u001b[1;33m[\u001b[0m\u001b[0mlen1\u001b[0m\u001b[1;33m]\u001b[0m\u001b[1;33m[\u001b[0m\u001b[0mlen2\u001b[0m\u001b[1;33m]\u001b[0m\u001b[1;33m\u001b[0m\u001b[0m\n\u001b[0;32m     87\u001b[0m \u001b[1;33m\u001b[0m\u001b[0m\n",
      "\u001b[1;32m/home/tbonza/.conda/envs/kaggle3/lib/python3.5/site-packages/nltk/metrics/distance.py\u001b[0m in \u001b[0;36m_edit_dist_step\u001b[1;34m(lev, i, j, s1, s2, transpositions)\u001b[0m\n\u001b[0;32m     52\u001b[0m \u001b[1;33m\u001b[0m\u001b[0m\n\u001b[0;32m     53\u001b[0m     \u001b[1;31m# pick the cheapest\u001b[0m\u001b[1;33m\u001b[0m\u001b[1;33m\u001b[0m\u001b[0m\n\u001b[1;32m---> 54\u001b[1;33m     \u001b[0mlev\u001b[0m\u001b[1;33m[\u001b[0m\u001b[0mi\u001b[0m\u001b[1;33m]\u001b[0m\u001b[1;33m[\u001b[0m\u001b[0mj\u001b[0m\u001b[1;33m]\u001b[0m \u001b[1;33m=\u001b[0m \u001b[0mmin\u001b[0m\u001b[1;33m(\u001b[0m\u001b[0ma\u001b[0m\u001b[1;33m,\u001b[0m \u001b[0mb\u001b[0m\u001b[1;33m,\u001b[0m \u001b[0mc\u001b[0m\u001b[1;33m,\u001b[0m \u001b[0md\u001b[0m\u001b[1;33m)\u001b[0m\u001b[1;33m\u001b[0m\u001b[0m\n\u001b[0m\u001b[0;32m     55\u001b[0m \u001b[1;33m\u001b[0m\u001b[0m\n\u001b[0;32m     56\u001b[0m \u001b[1;33m\u001b[0m\u001b[0m\n",
      "\u001b[1;31mKeyboardInterrupt\u001b[0m: "
     ]
    }
   ],
   "source": [
    "clusters = cluster_addresses(addy_buckets= addy_buckets, dist=5)"
   ]
  },
  {
   "cell_type": "code",
   "execution_count": null,
   "metadata": {
    "collapsed": true
   },
   "outputs": [],
   "source": []
  }
 ],
 "metadata": {
  "kernelspec": {
   "display_name": "Python 3",
   "language": "python",
   "name": "python3"
  },
  "language_info": {
   "codemirror_mode": {
    "name": "ipython",
    "version": 3
   },
   "file_extension": ".py",
   "mimetype": "text/x-python",
   "name": "python",
   "nbconvert_exporter": "python",
   "pygments_lexer": "ipython3",
   "version": "3.5.1"
  }
 },
 "nbformat": 4,
 "nbformat_minor": 0
}
