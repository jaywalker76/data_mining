{
 "cells": [
  {
   "cell_type": "code",
   "execution_count": 1,
   "metadata": {
    "collapsed": true
   },
   "outputs": [],
   "source": [
    "import pandas as pd\n",
    "from nltk.metrics.distance import edit_distance\n",
    "from itertools import combinations\n"
   ]
  },
  {
   "cell_type": "code",
   "execution_count": 2,
   "metadata": {
    "collapsed": false
   },
   "outputs": [
    {
     "name": "stderr",
     "output_type": "stream",
     "text": [
      "/home/tbonza/.conda/envs/kaggle3/lib/python3.5/site-packages/IPython/core/interactiveshell.py:2902: DtypeWarning: Columns (23) have mixed types. Specify dtype option on import or set low_memory=False.\n",
      "  interactivity=interactivity, compiler=compiler, result=result)\n"
     ]
    }
   ],
   "source": [
    "data = pd.read_csv('data/Food_Establishment_Inspections.csv')"
   ]
  },
  {
   "cell_type": "code",
   "execution_count": 3,
   "metadata": {
    "collapsed": true
   },
   "outputs": [],
   "source": [
    "address = ['Address','City','State','Zip']\n",
    "adddress_data = data[address]"
   ]
  },
  {
   "cell_type": "code",
   "execution_count": 4,
   "metadata": {
    "collapsed": false
   },
   "outputs": [],
   "source": [
    "buckets = {}\n",
    "\n",
    "for x in data[address].values:\n",
    "    addy, city, state, zipp = tuple(x)\n",
    "    \n",
    "    if addy in buckets:\n",
    "        buckets[city].append(tuple(x))\n",
    "        \n",
    "    else:\n",
    "        buckets[city] = [tuple(x)]\n",
    "\n",
    "#address_data = [tuple(x) for x in data[address].values]"
   ]
  },
  {
   "cell_type": "code",
   "execution_count": 5,
   "metadata": {
    "collapsed": false
   },
   "outputs": [
    {
     "data": {
      "text/plain": [
       "52"
      ]
     },
     "execution_count": 5,
     "metadata": {},
     "output_type": "execute_result"
    }
   ],
   "source": [
    "len(buckets)"
   ]
  },
  {
   "cell_type": "code",
   "execution_count": 6,
   "metadata": {
    "collapsed": false
   },
   "outputs": [],
   "source": [
    "def merge_buckets(fbucket, second_bucket, nbuckets, buckets):\n",
    "    \n",
    "    if fbucket in nbuckets:\n",
    "        \n",
    "        nbuckets[fbucket].extend(buckets[second_bucket])\n",
    "        \n",
    "    else:\n",
    "        \n",
    "        nbuckets[fbucket] = buckets[second_bucket]\n",
    "        \n",
    "    return nbuckets\n",
    "    \n",
    "def close_enough_buckets(first_bucket, second_bucket, dist):\n",
    "    \n",
    "    if first_bucket == second_bucket:\n",
    "        return False\n",
    "    \n",
    "    elif edit_distance(first_bucket, second_bucket) <= dist:\n",
    "        return True\n",
    "    \n",
    "    else:\n",
    "        return False\n",
    "\n",
    "def merge_similar_buckets(buckets, dist):\n",
    "    \n",
    "    nbuckets = {}\n",
    "    \n",
    "    for first_bucket in buckets.keys():\n",
    "        \n",
    "        sim = False\n",
    "\n",
    "        for second_bucket in buckets.keys():\n",
    "            \n",
    "            if type(first_bucket) == str and \\\n",
    "            type(second_bucket) == str:\n",
    "                \n",
    "                fbucket = first_bucket.upper()\n",
    "                sbucket = second_bucket.upper()\n",
    "            \n",
    "                if close_enough_buckets(fbucket, sbucket, dist):\n",
    "                \n",
    "                    sim = True\n",
    "                \n",
    "                    nbuckets = merge_buckets(fbucket, second_bucket, \n",
    "                                             nbuckets, buckets)\n",
    "                \n",
    "        if not sim:\n",
    "            \n",
    "            if type(first_bucket) == str:\n",
    "                fbucket = first_bucket.upper()\n",
    "            else:\n",
    "                fbucket = \"\"\n",
    "                \n",
    "            nbuckets[fbucket] = buckets[first_bucket]\n",
    "             \n",
    "    return nbuckets\n",
    "        "
   ]
  },
  {
   "cell_type": "code",
   "execution_count": 11,
   "metadata": {
    "collapsed": false
   },
   "outputs": [],
   "source": [
    "addy_buckets = merge_similar_buckets(buckets, 5)"
   ]
  },
  {
   "cell_type": "markdown",
   "metadata": {},
   "source": [
    "# Find similar addresses\n",
    "\n",
    "Find similar addresses by looking within each bucket. If an \n",
    "address is similar, then place the similar addresses in a \n",
    "numbered cluster. Clusters will be placed in a dictionary where\n",
    "each key is mapped to a number."
   ]
  },
  {
   "cell_type": "code",
   "execution_count": null,
   "metadata": {
    "collapsed": true
   },
   "outputs": [],
   "source": [
    "def merge_clusters(clusters):\n",
    "    \"\"\" Merge clusters from addy_list \"\"\"\n",
    "    pass\n",
    "\n",
    "\n",
    "def check_sim(addy_list, dist, num_key, clusters):\n",
    "    \"\"\" Check a list of addresses for string similarity \"\"\"\n",
    "    \n",
    "    for item in addy_list:\n",
    "        \n",
    "        sitem = str(item)\n",
    "        \n",
    "        for pair in addy_list:\n",
    "            \n",
    "            spair = str(pair)\n",
    "            \n",
    "            if close_enough_buckets(sitem, spair, dist):\n",
    "                \n",
    "                clusters[cluster].append()\n",
    "                \n",
    "                \n",
    "                \n",
    "                \n",
    "                \n",
    "                \n",
    "                \n",
    "                \n",
    "                \n",
    "    \n",
    "    \n",
    "\n",
    "def cluster_addresses(addy_buckets):\n",
    "    clusters = {}\n",
    "    cluster = 0\n",
    "    \n",
    "    for key in addy_buckets.keys():\n",
    "        addy_buckets[key]"
   ]
  }
 ],
 "metadata": {
  "kernelspec": {
   "display_name": "Python 3",
   "language": "python",
   "name": "python3"
  },
  "language_info": {
   "codemirror_mode": {
    "name": "ipython",
    "version": 3
   },
   "file_extension": ".py",
   "mimetype": "text/x-python",
   "name": "python",
   "nbconvert_exporter": "python",
   "pygments_lexer": "ipython3",
   "version": "3.5.1"
  }
 },
 "nbformat": 4,
 "nbformat_minor": 0
}
