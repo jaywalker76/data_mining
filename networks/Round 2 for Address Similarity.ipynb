{
 "cells": [
  {
   "cell_type": "code",
   "execution_count": 22,
   "metadata": {
    "collapsed": true
   },
   "outputs": [],
   "source": [
    "import pandas as pd\n",
    "from nltk.metrics.distance import edit_distance\n",
    "from itertools import combinations\n"
   ]
  },
  {
   "cell_type": "code",
   "execution_count": 2,
   "metadata": {
    "collapsed": false
   },
   "outputs": [
    {
     "name": "stderr",
     "output_type": "stream",
     "text": [
      "/home/tbonza/.conda/envs/kaggle3/lib/python3.5/site-packages/IPython/core/interactiveshell.py:2902: DtypeWarning: Columns (23) have mixed types. Specify dtype option on import or set low_memory=False.\n",
      "  interactivity=interactivity, compiler=compiler, result=result)\n"
     ]
    }
   ],
   "source": [
    "data = pd.read_csv('data/Food_Establishment_Inspections.csv')"
   ]
  },
  {
   "cell_type": "code",
   "execution_count": 3,
   "metadata": {
    "collapsed": true
   },
   "outputs": [],
   "source": [
    "address = ['Address','City','State','Zip']\n",
    "adddress_data = data[address]"
   ]
  },
  {
   "cell_type": "code",
   "execution_count": 8,
   "metadata": {
    "collapsed": true
   },
   "outputs": [],
   "source": [
    "buckets = {}\n",
    "\n",
    "for x in data[address].values:\n",
    "    addy, city, state, zipp = tuple(x)\n",
    "    \n",
    "    if addy in buckets:\n",
    "        buckets[city].append(tuple(x))\n",
    "        \n",
    "    else:\n",
    "        buckets[city] = [tuple(x)]\n",
    "\n",
    "#address_data = [tuple(x) for x in data[address].values]"
   ]
  },
  {
   "cell_type": "code",
   "execution_count": 9,
   "metadata": {
    "collapsed": false
   },
   "outputs": [
    {
     "data": {
      "text/plain": [
       "52"
      ]
     },
     "execution_count": 9,
     "metadata": {},
     "output_type": "execute_result"
    }
   ],
   "source": [
    "len(buckets)"
   ]
  },
  {
   "cell_type": "code",
   "execution_count": 37,
   "metadata": {
    "collapsed": false
   },
   "outputs": [],
   "source": [
    "def merge_similar_buckets(buckets):\n",
    "    \n",
    "    new_bucket = {}\n",
    "    \n",
    "    for bucket in buckets.keys():\n",
    "        \n",
    "        cbucket = str(bucket).upper()\n",
    "        \n",
    "        sim = False\n",
    "        \n",
    "        for other in buckets.keys():\n",
    "            \n",
    "            cother = str(other).upper()\n",
    "            \n",
    "            if cbucket != cother:\n",
    "                dist = edit_distance(cbucket, cother)\n",
    "\n",
    "                \n",
    "                if dist <= 5:\n",
    "                \n",
    "                    sim = True\n",
    "                \n",
    "                    if cbucket in new_bucket:\n",
    "                    \n",
    "                        new_bucket[cbucket].extend(buckets[bucket]) \n",
    "                    \n",
    "                    else:\n",
    "                    \n",
    "                        new_bucket[cbucket] = buckets[bucket]\n",
    "                    \n",
    "        if sim:\n",
    "            \n",
    "            new_bucket[cbucket] = buckets[bucket]\n",
    "            \n",
    "    return new_bucket\n",
    "        "
   ]
  },
  {
   "cell_type": "code",
   "execution_count": 39,
   "metadata": {
    "collapsed": false
   },
   "outputs": [],
   "source": [
    "#foo = merge_similar_buckets(buckets)\n",
    "        \n",
    "        "
   ]
  },
  {
   "cell_type": "code",
   "execution_count": null,
   "metadata": {
    "collapsed": false
   },
   "outputs": [],
   "source": []
  },
  {
   "cell_type": "code",
   "execution_count": null,
   "metadata": {
    "collapsed": true
   },
   "outputs": [],
   "source": []
  },
  {
   "cell_type": "code",
   "execution_count": null,
   "metadata": {
    "collapsed": true
   },
   "outputs": [],
   "source": []
  }
 ],
 "metadata": {
  "kernelspec": {
   "display_name": "Python 3",
   "language": "python",
   "name": "python3"
  },
  "language_info": {
   "codemirror_mode": {
    "name": "ipython",
    "version": 3
   },
   "file_extension": ".py",
   "mimetype": "text/x-python",
   "name": "python",
   "nbconvert_exporter": "python",
   "pygments_lexer": "ipython3",
   "version": "3.5.1"
  }
 },
 "nbformat": 4,
 "nbformat_minor": 0
}
