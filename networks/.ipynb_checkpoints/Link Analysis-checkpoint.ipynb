{
 "cells": [
  {
   "cell_type": "markdown",
   "metadata": {},
   "source": [
    "# Link Analysis\n",
    "\n",
    "Link analysis or network analysis (see [kdnuggets post](http://www.kdnuggets.com/software/social-network-analysis.html)) is a data analysis technique used to evaluate relationships (connections) between nodes. This notebook does the following:\n",
    "\n",
    "1. Reviews relevant link analysis literature\n",
    "1. Demonstrates proof of concept with Networkx (python package)\n",
    "1. Prototypes working concepts without Networkx\n",
    "\n",
    "Prototyping is to be done in Python 3 because strings are handled much more nicely (unicode). "
   ]
  },
  {
   "cell_type": "markdown",
   "metadata": {},
   "source": [
    "## Relevant Link Analysis Literature\n",
    "\n",
    "We can see that there's been a lot of stuff done on network/link analysis. A fairly good overview is done with [Mining Massive Datasets](http://mmds.org/). Chapter 10: [Mining Social Network Graphs](http://infolab.stanford.edu/~ullman/mmds/ch10.pdf) is of particular interest. Chapter 5: [Link Analysis](http://infolab.stanford.edu/~ullman/mmds/ch5.pdf) is also interesting. Also of interest but less specific to Link Analysis is [Ch. 6: Frequent Itemset Mining](http://mmds.org/mmds/v2.1/ch06-assocrules.pdf)"
   ]
  },
  {
   "cell_type": "code",
   "execution_count": null,
   "metadata": {
    "collapsed": true
   },
   "outputs": [],
   "source": []
  }
 ],
 "metadata": {
  "kernelspec": {
   "display_name": "Python 3",
   "language": "python",
   "name": "python3"
  },
  "language_info": {
   "codemirror_mode": {
    "name": "ipython",
    "version": 3
   },
   "file_extension": ".py",
   "mimetype": "text/x-python",
   "name": "python",
   "nbconvert_exporter": "python",
   "pygments_lexer": "ipython3",
   "version": "3.5.0"
  }
 },
 "nbformat": 4,
 "nbformat_minor": 0
}
