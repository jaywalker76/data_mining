{
 "cells": [
  {
   "cell_type": "markdown",
   "metadata": {},
   "source": [
    "## 3.5.1 Definition of a distance measure\n",
    "\n",
    "Suppose we have a set of points, called a *space*. A *distance measure* on this space is a function d(x,y) that takes two points in the space as arguments and produces a real number, and satisfies the following axioms:\n",
    "\n",
    "1. d(x,y) >= 0 (no negative distances)\n",
    "1. d(x,y) == 0 if and only if x == y (distances are positive, except for the distances from the point to itself).\n",
    "1. d(x,y) == d(y,x) (distance is symmetric).\n",
    "1. d(x,y) <= d(x,z) + d(z,y) (the triangle inequality)\n",
    "\n",
    "The triangle inequality is the most complex condition. It says, intuitively, that to travel from x to y, we cannot obtain any benefit if we are forced to travel via some particular third point z. The triangle-inequality axiom is what makes all distance measures behave as if distance describes the length of a shortest path from one point to another."
   ]
  },
  {
   "cell_type": "markdown",
   "metadata": {},
   "source": [
    "## 3.5.7 Exercises for Section 3.5\n",
    "\n",
    "### !Exercise 3.5.1: On the space of nonnegative integers, which of the following functions are distance measures? If so, prove it; if not, prove that it fails to satisfy one or move of the axioms.\n",
    "\n",
    "\n"
   ]
  },
  {
   "cell_type": "code",
   "execution_count": 1,
   "metadata": {
    "collapsed": false
   },
   "outputs": [],
   "source": [
    "from collections import OrderedDict\n",
    "\n",
    "def axiomOne(function):\n",
    "    \"\"\" d(x,y) >= 0 (no negative distances) \"\"\"\n",
    "    if function >= 0:\n",
    "        return True\n",
    "    elif function < 0:\n",
    "        return False\n",
    "    else:\n",
    "        raise TypeError(\"Bad Input\")\n",
    "        \n",
    "def axiomTwo(function, x, y):\n",
    "    \"\"\" d(x,y) == 0 if and only if x == y (distances are positive, \n",
    "        except for the distances from the point to itself). \n",
    "    \"\"\"\n",
    "    if x == y and function(x,y) == 0:\n",
    "        return True\n",
    "    elif x == y and function(x,y) != 0:\n",
    "        return False\n",
    "    elif x != y:\n",
    "        return True\n",
    "    else:\n",
    "        return None\n",
    "    \n",
    "def axiomThree(function, x, y):\n",
    "    \"\"\" d(x,y) == d(y,x) (distance is symmetric). \"\"\"\n",
    "    if function(x,y) == function(y, x):\n",
    "        return True\n",
    "    elif function(x,y) != function(y, x):\n",
    "        return False\n",
    "    else:\n",
    "        raise TypeError(\"Bad Input\")\n",
    "        \n",
    "def axiomFour(function, x,y,z):\n",
    "    \"\"\" d(x,y) <= d(x,z) + d(z,y) (the triangle inequality) \"\"\"\n",
    "    if function(x,y) <= (function(x,z) + function(z, y)):\n",
    "        return True\n",
    "    elif function(x,y) > (function(x,z) + function(z, y)):\n",
    "        return False\n",
    "    else:\n",
    "        raise TypeError(\"Bad Input\")\n",
    "        \n",
    "        \n",
    "def axiomCheck(function, x, y, z):\n",
    "    axioms = {}\n",
    "    \n",
    "    axioms[1] = axiomOne(function)\n",
    "    axioms[2] = axiomTwo(function, x, y)\n",
    "    axioms[3] = axiomThree(function, x, y)\n",
    "    axioms[4] = axiomFour(function, x,y,z)\n",
    "    \n",
    "    return OrderedDict(sorted(axioms.items()))\n"
   ]
  },
  {
   "cell_type": "code",
   "execution_count": 2,
   "metadata": {
    "collapsed": false
   },
   "outputs": [
    {
     "name": "stdout",
     "output_type": "stream",
     "text": [
      "When Axiom Two is applied to the function, it returns False\n",
      "\n",
      "Part A function is not a distance measure\n"
     ]
    },
    {
     "data": {
      "text/plain": [
       "OrderedDict([(1, True), (2, False), (3, True), (4, True)])"
      ]
     },
     "execution_count": 2,
     "metadata": {},
     "output_type": "execute_result"
    }
   ],
   "source": [
    "# (a) max(x,y) == the larger of x and y\n",
    "\n",
    "def maxDist(x, y):\n",
    "    \"\"\"  max(x,y) == the larger of x and y \"\"\"\n",
    "    if x > y:\n",
    "        return x\n",
    "    elif x < y:\n",
    "        return y\n",
    "    elif x == y:\n",
    "        return x\n",
    "    else:\n",
    "        raise TypeError(\"Bad input\")\n",
    "\n",
    "# violates axiom 2\n",
    "x = 3\n",
    "y = 3\n",
    "z = 3\n",
    "\n",
    "print(\"When Axiom Two is applied to the function, it returns {}\".format(axiomTwo(maxDist, x,y)))\n",
    "print(\"\\nPart A function is not a distance measure\")\n",
    "\n",
    "axiomCheck(maxDist, x,y,z)"
   ]
  },
  {
   "cell_type": "code",
   "execution_count": 3,
   "metadata": {
    "collapsed": false
   },
   "outputs": [
    {
     "name": "stdout",
     "output_type": "stream",
     "text": [
      "Check one: OrderedDict([(1, True), (2, True), (3, True), (4, True)])\n",
      "Check two: OrderedDict([(1, True), (2, True), (3, True), (4, True)])\n",
      "\n",
      "Part B function is a distance measure\n"
     ]
    }
   ],
   "source": [
    "# (b) diff(x,y) == |x - y| (the absolute magnitude of the difference between x and y).\n",
    "\n",
    "def diff(x,y):\n",
    "    \"\"\" diff(x,y) == |x - y| \n",
    "    (the absolute magnitude of the difference between x and y). \n",
    "    \"\"\"\n",
    "    return abs(x - y)\n",
    "\n",
    "x = 10\n",
    "y = 11\n",
    "z = 3\n",
    "\n",
    "print(\"Check one: {}\".format(axiomCheck(diff, x,y,z)))\n",
    "\n",
    "\n",
    "x = 3\n",
    "y = 3\n",
    "z = 3\n",
    "\n",
    "print(\"Check two: {}\".format(axiomCheck(diff, x,y,z)))\n",
    "\n",
    "print(\"\\nPart B function is a distance measure\")\n"
   ]
  },
  {
   "cell_type": "code",
   "execution_count": 4,
   "metadata": {
    "collapsed": false
   },
   "outputs": [
    {
     "name": "stdout",
     "output_type": "stream",
     "text": [
      "Check one: OrderedDict([(1, True), (2, False), (3, True), (4, True)])\n",
      "\n",
      "Part C function is not a distance measure\n"
     ]
    }
   ],
   "source": [
    "# (c) sum(x,y) == x + y\n",
    "\n",
    "def sumDist(x,y):\n",
    "    return x + y\n",
    "\n",
    "x = 3\n",
    "y = 3\n",
    "z = 3\n",
    "\n",
    "print(\"Check one: {}\".format(axiomCheck(sumDist, x,y,z)))\n",
    "print(\"\\nPart C function is not a distance measure\")\n"
   ]
  },
  {
   "cell_type": "markdown",
   "metadata": {},
   "source": [
    "## Exercise 3.5.2: Find the L1 and L2 distances between the points (5,6,7) and (8,2,4)"
   ]
  },
  {
   "cell_type": "code",
   "execution_count": 5,
   "metadata": {
    "collapsed": false
   },
   "outputs": [],
   "source": [
    "# L1 and L2 distances pertain to the Euclidean distance measure\n",
    "\n",
    "import numpy as np\n",
    "\n",
    "def lrNorm(x, y, r):\n",
    "    \"\"\" Computer the Lr Norm for Euclidean Distance\n",
    "    \n",
    "    Args:\n",
    "        x,y = float, list\n",
    "        \n",
    "    Returns:\n",
    "        Float, Euclidean distance\n",
    "    \"\"\"\n",
    "    r_flt = float(r)\n",
    "    x_arr = np.array(x, np.float64)\n",
    "    y_arr = np.array(y, np.float64)\n",
    "    \n",
    "    sigma = np.sum(\n",
    "        np.power(np.absolute(\n",
    "                x_arr - y_arr),r_flt))\n",
    "    \n",
    "    eucDist = np.power(sigma, (1/r_flt))\n",
    "    \n",
    "    return eucDist\n",
    "    \n",
    "    "
   ]
  },
  {
   "cell_type": "code",
   "execution_count": 6,
   "metadata": {
    "collapsed": false
   },
   "outputs": [
    {
     "name": "stdout",
     "output_type": "stream",
     "text": [
      "L1 norm: 10.0\n",
      "L2 norm: 5.83095189485\n"
     ]
    }
   ],
   "source": [
    "x = [5,6,7]\n",
    "y = [8,2,4]\n",
    "\n",
    "print(\"L1 norm: {}\".format(lrNorm(x, y, 1)))\n",
    "print(\"L2 norm: {}\".format(lrNorm(x, y, 2)))"
   ]
  },
  {
   "cell_type": "markdown",
   "metadata": {},
   "source": [
    "## Exercise 3.5.4: Find the Jaccard distances between the following pairs of sets:\n",
    "- {1,2,3,4} and {2,3,4,5}\n",
    "- {1,2,3} and {4,5,6}"
   ]
  },
  {
   "cell_type": "code",
   "execution_count": 7,
   "metadata": {
    "collapsed": false
   },
   "outputs": [],
   "source": [
    "def jaccardSim(x,y):\n",
    "    \"\"\" Returns Jaccard similarity score \n",
    "    \n",
    "    Args: \n",
    "      x, y: list, int or float\n",
    "      \n",
    "    Returns:\n",
    "      float, jaccard similarity score\n",
    "    \"\"\"\n",
    "    x_set = set(x)\n",
    "    y_set = set(y)\n",
    "    \n",
    "    simScore = float(len(x_set & y_set))/ \\\n",
    "    float(len(x_set | y_set))\n",
    "    \n",
    "    return simScore\n",
    "\n",
    "def jaccardDistance(x,y):\n",
    "    \"\"\" Computes the Jaccard distance \"\"\"\n",
    "    return (1 - jaccardSim(x,y))"
   ]
  },
  {
   "cell_type": "code",
   "execution_count": 8,
   "metadata": {
    "collapsed": false
   },
   "outputs": [
    {
     "name": "stdout",
     "output_type": "stream",
     "text": [
      "(a) (1,2,3,4) and (2,3,4,5) is jaccard distance: 0.4\n",
      "(b) (1,2,3) and (4,5,6) is jaccard distance: 1.0\n"
     ]
    }
   ],
   "source": [
    "print(\"(a) (1,2,3,4) and (2,3,4,5) is jaccard distance: {}\".format(jaccardDistance([1,2,3,4],[2,3,4,5])))\n",
    "print(\"(b) (1,2,3) and (4,5,6) is jaccard distance: {}\".format(jaccardDistance([1,2,3],[4,5,6])))"
   ]
  },
  {
   "cell_type": "markdown",
   "metadata": {},
   "source": [
    "## Exercise 3.5.5: Compute the cosines of the angles between each of the following pairs of vectors.\n",
    "- (a) (3,-1,2) and (-2,3,1)\n",
    "- (b) (1,2,3) and (2,4,6)\n",
    "- (c) (5,0,-4) and (-1,-6,2)\n",
    "- (d) (0,1,1,0,1,1) and (0,0,1,0,0,0)"
   ]
  },
  {
   "cell_type": "code",
   "execution_count": 24,
   "metadata": {
    "collapsed": true
   },
   "outputs": [],
   "source": [
    "def cosineDistance(x,y):\n",
    "    \"\"\" Computes the cosine distance \"\"\"\n",
    "    x_arr = np.array(x, np.float64)\n",
    "    y_arr = np.array(y, np.float64)\n",
    "    \n",
    "    cos = np.dot(x,y) / \\\n",
    "    (np.sqrt(np.dot(x,x)) * np.sqrt(np.dot(y,y)))\n",
    "    return cos\n",
    "    \n"
   ]
  },
  {
   "cell_type": "code",
   "execution_count": 25,
   "metadata": {
    "collapsed": false
   },
   "outputs": [
    {
     "data": {
      "text/plain": [
       "0.50000000000000011"
      ]
     },
     "execution_count": 25,
     "metadata": {},
     "output_type": "execute_result"
    }
   ],
   "source": [
    "# Example 3.13 \n",
    "\n",
    "x = [1,2,-1]\n",
    "y = [2,1,1]\n",
    "\n",
    "cosineDistance(x,y)"
   ]
  },
  {
   "cell_type": "code",
   "execution_count": 26,
   "metadata": {
    "collapsed": false
   },
   "outputs": [
    {
     "data": {
      "text/plain": [
       "-0.5"
      ]
     },
     "execution_count": 26,
     "metadata": {},
     "output_type": "execute_result"
    }
   ],
   "source": [
    "# a \n",
    "x = [3,-1,2]; y = [-2,3,1]\n",
    "cosineDistance(x,y)"
   ]
  },
  {
   "cell_type": "code",
   "execution_count": 27,
   "metadata": {
    "collapsed": false
   },
   "outputs": [
    {
     "data": {
      "text/plain": [
       "1.0"
      ]
     },
     "execution_count": 27,
     "metadata": {},
     "output_type": "execute_result"
    }
   ],
   "source": [
    "# b\n",
    "x = [1,2,3]; y = [2,4,6]\n",
    "cosineDistance(x,y)"
   ]
  },
  {
   "cell_type": "code",
   "execution_count": 28,
   "metadata": {
    "collapsed": false
   },
   "outputs": [
    {
     "data": {
      "text/plain": [
       "-0.31707317073170732"
      ]
     },
     "execution_count": 28,
     "metadata": {},
     "output_type": "execute_result"
    }
   ],
   "source": [
    "# c\n",
    "x = [5,0,-4]; y = [-1,-6,2]\n",
    "cosineDistance(x,y)"
   ]
  },
  {
   "cell_type": "code",
   "execution_count": 29,
   "metadata": {
    "collapsed": false
   },
   "outputs": [
    {
     "data": {
      "text/plain": [
       "0.5"
      ]
     },
     "execution_count": 29,
     "metadata": {},
     "output_type": "execute_result"
    }
   ],
   "source": [
    "# d \n",
    "x = [0,1,1,0,1,1]; y = [0,0,1,0,0,0]\n",
    "cosineDistance(x,y)"
   ]
  },
  {
   "cell_type": "code",
   "execution_count": null,
   "metadata": {
    "collapsed": true
   },
   "outputs": [],
   "source": []
  }
 ],
 "metadata": {
  "kernelspec": {
   "display_name": "Python 2",
   "language": "python",
   "name": "python2"
  },
  "language_info": {
   "codemirror_mode": {
    "name": "ipython",
    "version": 2
   },
   "file_extension": ".py",
   "mimetype": "text/x-python",
   "name": "python",
   "nbconvert_exporter": "python",
   "pygments_lexer": "ipython2",
   "version": "2.7.10"
  }
 },
 "nbformat": 4,
 "nbformat_minor": 0
}
