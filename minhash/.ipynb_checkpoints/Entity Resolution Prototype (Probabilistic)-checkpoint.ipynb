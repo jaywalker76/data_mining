{
 "cells": [
  {
   "cell_type": "markdown",
   "metadata": {},
   "source": [
    "# Entity Resolution Prototype (Probabilistic) \n",
    "\n",
    "We're going to slowly walk through this thing and try to replicate [these guys](http://crpit.com/confpapers/CRPITV159Moir.pdf). The approach will be to start simple\n",
    "and then walk our way into more complex algorithms. If all goes well, this notebook\n",
    "will demonstrate an implementation that can then be expressed in Java. The prototyping steps\n",
    "are as follows:\n",
    "\n",
    "1. Getting Data with (including labeled training and CV data)\n",
    "1. Cleaning Data\n",
    "1. Metrics or Algorithms for Comparing String Values\n",
    "1. Train SVM\n",
    "1. Tune SVM with genetic algorithm\n",
    "1. Figure out bad values with Q-learning algorithm\n",
    "1. Construct Bayesian network of generic feature resolvers\n",
    "1. Use genetic algorithm to find optimal Bayes Network\n",
    "\n",
    "Note that steps 3-6 are required to construct a 'generic feature resolver'. Steps\n",
    "7-8 are required to construct a bayesian network of those feature resolvers. There\n",
    "is a second notebook that will provide a deterministic approach rather than the \n",
    "probabilistic one you see here."
   ]
  },
  {
   "cell_type": "markdown",
   "metadata": {},
   "source": [
    "## Step 1: Getting Data with (including labeled training and CV data)"
   ]
  },
  {
   "cell_type": "code",
   "execution_count": 1,
   "metadata": {
    "collapsed": false
   },
   "outputs": [
    {
     "data": {
      "text/html": [
       "<div>\n",
       "<table border=\"1\" class=\"dataframe\">\n",
       "  <thead>\n",
       "    <tr style=\"text-align: right;\">\n",
       "      <th></th>\n",
       "      <th>PassengerId</th>\n",
       "      <th>Survived</th>\n",
       "      <th>Pclass</th>\n",
       "      <th>Name</th>\n",
       "      <th>Sex</th>\n",
       "      <th>Age</th>\n",
       "      <th>SibSp</th>\n",
       "      <th>Parch</th>\n",
       "      <th>Ticket</th>\n",
       "      <th>Fare</th>\n",
       "      <th>Cabin</th>\n",
       "      <th>Embarked</th>\n",
       "    </tr>\n",
       "  </thead>\n",
       "  <tbody>\n",
       "    <tr>\n",
       "      <th>0</th>\n",
       "      <td>1</td>\n",
       "      <td>0</td>\n",
       "      <td>3</td>\n",
       "      <td>Braund, Mr. Owen Harris</td>\n",
       "      <td>male</td>\n",
       "      <td>22</td>\n",
       "      <td>1</td>\n",
       "      <td>0</td>\n",
       "      <td>A/5 21171</td>\n",
       "      <td>7.2500</td>\n",
       "      <td>NaN</td>\n",
       "      <td>S</td>\n",
       "    </tr>\n",
       "    <tr>\n",
       "      <th>1</th>\n",
       "      <td>2</td>\n",
       "      <td>1</td>\n",
       "      <td>1</td>\n",
       "      <td>Cumings, Mrs. John Bradley (Florence Briggs Th...</td>\n",
       "      <td>female</td>\n",
       "      <td>38</td>\n",
       "      <td>1</td>\n",
       "      <td>0</td>\n",
       "      <td>PC 17599</td>\n",
       "      <td>71.2833</td>\n",
       "      <td>C85</td>\n",
       "      <td>C</td>\n",
       "    </tr>\n",
       "    <tr>\n",
       "      <th>2</th>\n",
       "      <td>3</td>\n",
       "      <td>1</td>\n",
       "      <td>3</td>\n",
       "      <td>Heikkinen, Miss. Laina</td>\n",
       "      <td>female</td>\n",
       "      <td>26</td>\n",
       "      <td>0</td>\n",
       "      <td>0</td>\n",
       "      <td>STON/O2. 3101282</td>\n",
       "      <td>7.9250</td>\n",
       "      <td>NaN</td>\n",
       "      <td>S</td>\n",
       "    </tr>\n",
       "    <tr>\n",
       "      <th>3</th>\n",
       "      <td>4</td>\n",
       "      <td>1</td>\n",
       "      <td>1</td>\n",
       "      <td>Futrelle, Mrs. Jacques Heath (Lily May Peel)</td>\n",
       "      <td>female</td>\n",
       "      <td>35</td>\n",
       "      <td>1</td>\n",
       "      <td>0</td>\n",
       "      <td>113803</td>\n",
       "      <td>53.1000</td>\n",
       "      <td>C123</td>\n",
       "      <td>S</td>\n",
       "    </tr>\n",
       "    <tr>\n",
       "      <th>4</th>\n",
       "      <td>5</td>\n",
       "      <td>0</td>\n",
       "      <td>3</td>\n",
       "      <td>Allen, Mr. William Henry</td>\n",
       "      <td>male</td>\n",
       "      <td>35</td>\n",
       "      <td>0</td>\n",
       "      <td>0</td>\n",
       "      <td>373450</td>\n",
       "      <td>8.0500</td>\n",
       "      <td>NaN</td>\n",
       "      <td>S</td>\n",
       "    </tr>\n",
       "  </tbody>\n",
       "</table>\n",
       "</div>"
      ],
      "text/plain": [
       "   PassengerId  Survived  Pclass  \\\n",
       "0            1         0       3   \n",
       "1            2         1       1   \n",
       "2            3         1       3   \n",
       "3            4         1       1   \n",
       "4            5         0       3   \n",
       "\n",
       "                                                Name     Sex  Age  SibSp  \\\n",
       "0                            Braund, Mr. Owen Harris    male   22      1   \n",
       "1  Cumings, Mrs. John Bradley (Florence Briggs Th...  female   38      1   \n",
       "2                             Heikkinen, Miss. Laina  female   26      0   \n",
       "3       Futrelle, Mrs. Jacques Heath (Lily May Peel)  female   35      1   \n",
       "4                           Allen, Mr. William Henry    male   35      0   \n",
       "\n",
       "   Parch            Ticket     Fare Cabin Embarked  \n",
       "0      0         A/5 21171   7.2500   NaN        S  \n",
       "1      0          PC 17599  71.2833   C85        C  \n",
       "2      0  STON/O2. 3101282   7.9250   NaN        S  \n",
       "3      0            113803  53.1000  C123        S  \n",
       "4      0            373450   8.0500   NaN        S  "
      ]
     },
     "execution_count": 1,
     "metadata": {},
     "output_type": "execute_result"
    }
   ],
   "source": [
    "# Data was taken from the Kaggle Titanic competition (https://www.kaggle.com/c/titanic)\n",
    "\n",
    "import pandas as pd\n",
    "\n",
    "pd.read_csv(\"../data/train.csv\")[0:5]\n"
   ]
  },
  {
   "cell_type": "markdown",
   "metadata": {},
   "source": [
    "We know that there aren't multiple instances of the same person here. However, there are instances of the\n",
    "same family. So our goal is to resolve entities in this dataset to the **family** level; not the individual. We \n",
    "would like our unit of analysis to be the family."
   ]
  },
  {
   "cell_type": "code",
   "execution_count": 2,
   "metadata": {
    "collapsed": false
   },
   "outputs": [
    {
     "name": "stdout",
     "output_type": "stream",
     "text": [
      "Training set rows: 891\n",
      "Test set rows: 418\n"
     ]
    }
   ],
   "source": [
    "train = pd.read_csv(\"../data/train.csv\")\n",
    "test = pd.read_csv(\"../data/test.csv\")\n",
    "\n",
    "print(\"Training set rows: {}\".format(len(train)))\n",
    "print(\"Test set rows: {}\".format(len(test)))\n",
    "\n",
    "# Note that there isn't a cross validation set available unless we make one."
   ]
  },
  {
   "cell_type": "markdown",
   "metadata": {},
   "source": [
    "Unfortunately, this data doesn't include labeled training data for the purpose of entity\n",
    "resolution. It's not too much so I'll go in and do it by hand. Remember, our goal is to use\n",
    "entity resolution to aggregate from the *individual* to the *family* unit of analysis."
   ]
  },
  {
   "cell_type": "code",
   "execution_count": 3,
   "metadata": {
    "collapsed": true
   },
   "outputs": [],
   "source": [
    "import re\n",
    "\n",
    "def labelCheater(name):\n",
    "    \"\"\" Life's short, we don't have to copy/paste; just verify \"\"\"\n",
    "    pattern = re.compile(\"(.*)(?=,)\")\n",
    "    \n",
    "    try:\n",
    "        return pattern.match(name).group(1)\n",
    "    except:\n",
    "        return \"NotGood\"\n",
    "    "
   ]
  },
  {
   "cell_type": "code",
   "execution_count": 4,
   "metadata": {
    "collapsed": false
   },
   "outputs": [],
   "source": [
    "train[\"familyLabel\"] = train[\"Name\"].apply((lambda name: labelCheater(name)))\n",
    "test[\"familyLabel\"] = test[\"Name\"].apply((lambda name: labelCheater(name)))"
   ]
  },
  {
   "cell_type": "code",
   "execution_count": 5,
   "metadata": {
    "collapsed": false
   },
   "outputs": [
    {
     "data": {
      "text/html": [
       "<div>\n",
       "<table border=\"1\" class=\"dataframe\">\n",
       "  <thead>\n",
       "    <tr style=\"text-align: right;\">\n",
       "      <th></th>\n",
       "      <th>Name</th>\n",
       "      <th>familyLabel</th>\n",
       "    </tr>\n",
       "  </thead>\n",
       "  <tbody>\n",
       "    <tr>\n",
       "      <th>165</th>\n",
       "      <td>Goldsmith, Master. Frank John William \"Frankie\"</td>\n",
       "      <td>Goldsmith</td>\n",
       "    </tr>\n",
       "    <tr>\n",
       "      <th>166</th>\n",
       "      <td>Chibnall, Mrs. (Edith Martha Bowerman)</td>\n",
       "      <td>Chibnall</td>\n",
       "    </tr>\n",
       "    <tr>\n",
       "      <th>167</th>\n",
       "      <td>Skoog, Mrs. William (Anna Bernhardina Karlsson)</td>\n",
       "      <td>Skoog</td>\n",
       "    </tr>\n",
       "    <tr>\n",
       "      <th>168</th>\n",
       "      <td>Baumann, Mr. John D</td>\n",
       "      <td>Baumann</td>\n",
       "    </tr>\n",
       "    <tr>\n",
       "      <th>169</th>\n",
       "      <td>Ling, Mr. Lee</td>\n",
       "      <td>Ling</td>\n",
       "    </tr>\n",
       "    <tr>\n",
       "      <th>170</th>\n",
       "      <td>Van der hoef, Mr. Wyckoff</td>\n",
       "      <td>Van der hoef</td>\n",
       "    </tr>\n",
       "    <tr>\n",
       "      <th>171</th>\n",
       "      <td>Rice, Master. Arthur</td>\n",
       "      <td>Rice</td>\n",
       "    </tr>\n",
       "    <tr>\n",
       "      <th>172</th>\n",
       "      <td>Johnson, Miss. Eleanor Ileen</td>\n",
       "      <td>Johnson</td>\n",
       "    </tr>\n",
       "    <tr>\n",
       "      <th>173</th>\n",
       "      <td>Sivola, Mr. Antti Wilhelm</td>\n",
       "      <td>Sivola</td>\n",
       "    </tr>\n",
       "    <tr>\n",
       "      <th>174</th>\n",
       "      <td>Smith, Mr. James Clinch</td>\n",
       "      <td>Smith</td>\n",
       "    </tr>\n",
       "    <tr>\n",
       "      <th>175</th>\n",
       "      <td>Klasen, Mr. Klas Albin</td>\n",
       "      <td>Klasen</td>\n",
       "    </tr>\n",
       "    <tr>\n",
       "      <th>176</th>\n",
       "      <td>Lefebre, Master. Henry Forbes</td>\n",
       "      <td>Lefebre</td>\n",
       "    </tr>\n",
       "    <tr>\n",
       "      <th>177</th>\n",
       "      <td>Isham, Miss. Ann Elizabeth</td>\n",
       "      <td>Isham</td>\n",
       "    </tr>\n",
       "    <tr>\n",
       "      <th>178</th>\n",
       "      <td>Hale, Mr. Reginald</td>\n",
       "      <td>Hale</td>\n",
       "    </tr>\n",
       "    <tr>\n",
       "      <th>179</th>\n",
       "      <td>Leonard, Mr. Lionel</td>\n",
       "      <td>Leonard</td>\n",
       "    </tr>\n",
       "  </tbody>\n",
       "</table>\n",
       "</div>"
      ],
      "text/plain": [
       "                                                Name   familyLabel\n",
       "165  Goldsmith, Master. Frank John William \"Frankie\"     Goldsmith\n",
       "166           Chibnall, Mrs. (Edith Martha Bowerman)      Chibnall\n",
       "167  Skoog, Mrs. William (Anna Bernhardina Karlsson)         Skoog\n",
       "168                              Baumann, Mr. John D       Baumann\n",
       "169                                    Ling, Mr. Lee          Ling\n",
       "170                        Van der hoef, Mr. Wyckoff  Van der hoef\n",
       "171                             Rice, Master. Arthur          Rice\n",
       "172                     Johnson, Miss. Eleanor Ileen       Johnson\n",
       "173                        Sivola, Mr. Antti Wilhelm        Sivola\n",
       "174                          Smith, Mr. James Clinch         Smith\n",
       "175                           Klasen, Mr. Klas Albin        Klasen\n",
       "176                    Lefebre, Master. Henry Forbes       Lefebre\n",
       "177                       Isham, Miss. Ann Elizabeth         Isham\n",
       "178                               Hale, Mr. Reginald          Hale\n",
       "179                              Leonard, Mr. Lionel       Leonard"
      ]
     },
     "execution_count": 5,
     "metadata": {},
     "output_type": "execute_result"
    }
   ],
   "source": [
    "# Now instead of copy/pasting; I'll just manually inspect the labels \n",
    "\n",
    "train[[\"Name\",\"familyLabel\"]][165:180]"
   ]
  },
  {
   "cell_type": "code",
   "execution_count": 6,
   "metadata": {
    "collapsed": false
   },
   "outputs": [
    {
     "data": {
      "text/html": [
       "<div>\n",
       "<table border=\"1\" class=\"dataframe\">\n",
       "  <thead>\n",
       "    <tr style=\"text-align: right;\">\n",
       "      <th></th>\n",
       "      <th>Name</th>\n",
       "      <th>familyLabel</th>\n",
       "    </tr>\n",
       "  </thead>\n",
       "  <tbody>\n",
       "    <tr>\n",
       "      <th>0</th>\n",
       "      <td>Kelly, Mr. James</td>\n",
       "      <td>Kelly</td>\n",
       "    </tr>\n",
       "    <tr>\n",
       "      <th>1</th>\n",
       "      <td>Wilkes, Mrs. James (Ellen Needs)</td>\n",
       "      <td>Wilkes</td>\n",
       "    </tr>\n",
       "    <tr>\n",
       "      <th>2</th>\n",
       "      <td>Myles, Mr. Thomas Francis</td>\n",
       "      <td>Myles</td>\n",
       "    </tr>\n",
       "    <tr>\n",
       "      <th>3</th>\n",
       "      <td>Wirz, Mr. Albert</td>\n",
       "      <td>Wirz</td>\n",
       "    </tr>\n",
       "    <tr>\n",
       "      <th>4</th>\n",
       "      <td>Hirvonen, Mrs. Alexander (Helga E Lindqvist)</td>\n",
       "      <td>Hirvonen</td>\n",
       "    </tr>\n",
       "  </tbody>\n",
       "</table>\n",
       "</div>"
      ],
      "text/plain": [
       "                                           Name familyLabel\n",
       "0                              Kelly, Mr. James       Kelly\n",
       "1              Wilkes, Mrs. James (Ellen Needs)      Wilkes\n",
       "2                     Myles, Mr. Thomas Francis       Myles\n",
       "3                              Wirz, Mr. Albert        Wirz\n",
       "4  Hirvonen, Mrs. Alexander (Helga E Lindqvist)    Hirvonen"
      ]
     },
     "execution_count": 6,
     "metadata": {},
     "output_type": "execute_result"
    }
   ],
   "source": [
    "# we'll just need to do the same thing to get a score for the test set\n",
    "# at the end of the experiment.\n",
    "\n",
    "test[[\"Name\",\"familyLabel\"]][0:5]"
   ]
  },
  {
   "cell_type": "markdown",
   "metadata": {},
   "source": [
    "There's some strangeness with parentheses that I may have to \n",
    "adjust at some point but for now we'll leave it in because\n",
    "we want our noise to be **loud**."
   ]
  },
  {
   "cell_type": "markdown",
   "metadata": {},
   "source": [
    "##Step 2: Cleaning Data"
   ]
  },
  {
   "cell_type": "code",
   "execution_count": 7,
   "metadata": {
    "collapsed": true
   },
   "outputs": [],
   "source": [
    "import string\n",
    "from nltk.corpus import stopwords\n",
    "\n",
    "\n",
    "\n",
    "def cleanNames(name):\n",
    "    \"\"\" Clean names by removing punctuation and stop words, also uppercase everything\"\"\"\n",
    "    \n",
    "    stop = stopwords.words('english')\n",
    "    clean_string = \"\"\n",
    "    # may need to remove things in parentheses at some point\n",
    "    \n",
    "    for word in name.split(\"\\s\"):\n",
    "        if word not in stop:\n",
    "            word = word.translate(None, string.punctuation)\n",
    "            clean_string += word + \" \"\n",
    "            \n",
    "    return clean_string[0:-1].upper()\n",
    "            "
   ]
  },
  {
   "cell_type": "code",
   "execution_count": 8,
   "metadata": {
    "collapsed": false
   },
   "outputs": [
    {
     "data": {
      "text/html": [
       "<div>\n",
       "<table border=\"1\" class=\"dataframe\">\n",
       "  <thead>\n",
       "    <tr style=\"text-align: right;\">\n",
       "      <th></th>\n",
       "      <th>PassengerId</th>\n",
       "      <th>Survived</th>\n",
       "      <th>Pclass</th>\n",
       "      <th>Name</th>\n",
       "      <th>Sex</th>\n",
       "      <th>Age</th>\n",
       "      <th>SibSp</th>\n",
       "      <th>Parch</th>\n",
       "      <th>Ticket</th>\n",
       "      <th>Fare</th>\n",
       "      <th>Cabin</th>\n",
       "      <th>Embarked</th>\n",
       "      <th>familyLabel</th>\n",
       "    </tr>\n",
       "  </thead>\n",
       "  <tbody>\n",
       "    <tr>\n",
       "      <th>0</th>\n",
       "      <td>1</td>\n",
       "      <td>0</td>\n",
       "      <td>3</td>\n",
       "      <td>BRAUND MR OWEN HARRIS</td>\n",
       "      <td>male</td>\n",
       "      <td>22</td>\n",
       "      <td>1</td>\n",
       "      <td>0</td>\n",
       "      <td>A/5 21171</td>\n",
       "      <td>7.2500</td>\n",
       "      <td>NaN</td>\n",
       "      <td>S</td>\n",
       "      <td>BRAUND</td>\n",
       "    </tr>\n",
       "    <tr>\n",
       "      <th>1</th>\n",
       "      <td>2</td>\n",
       "      <td>1</td>\n",
       "      <td>1</td>\n",
       "      <td>CUMINGS MRS JOHN BRADLEY FLORENCE BRIGGS THAYER</td>\n",
       "      <td>female</td>\n",
       "      <td>38</td>\n",
       "      <td>1</td>\n",
       "      <td>0</td>\n",
       "      <td>PC 17599</td>\n",
       "      <td>71.2833</td>\n",
       "      <td>C85</td>\n",
       "      <td>C</td>\n",
       "      <td>CUMINGS</td>\n",
       "    </tr>\n",
       "    <tr>\n",
       "      <th>2</th>\n",
       "      <td>3</td>\n",
       "      <td>1</td>\n",
       "      <td>3</td>\n",
       "      <td>HEIKKINEN MISS LAINA</td>\n",
       "      <td>female</td>\n",
       "      <td>26</td>\n",
       "      <td>0</td>\n",
       "      <td>0</td>\n",
       "      <td>STON/O2. 3101282</td>\n",
       "      <td>7.9250</td>\n",
       "      <td>NaN</td>\n",
       "      <td>S</td>\n",
       "      <td>HEIKKINEN</td>\n",
       "    </tr>\n",
       "    <tr>\n",
       "      <th>3</th>\n",
       "      <td>4</td>\n",
       "      <td>1</td>\n",
       "      <td>1</td>\n",
       "      <td>FUTRELLE MRS JACQUES HEATH LILY MAY PEEL</td>\n",
       "      <td>female</td>\n",
       "      <td>35</td>\n",
       "      <td>1</td>\n",
       "      <td>0</td>\n",
       "      <td>113803</td>\n",
       "      <td>53.1000</td>\n",
       "      <td>C123</td>\n",
       "      <td>S</td>\n",
       "      <td>FUTRELLE</td>\n",
       "    </tr>\n",
       "    <tr>\n",
       "      <th>4</th>\n",
       "      <td>5</td>\n",
       "      <td>0</td>\n",
       "      <td>3</td>\n",
       "      <td>ALLEN MR WILLIAM HENRY</td>\n",
       "      <td>male</td>\n",
       "      <td>35</td>\n",
       "      <td>0</td>\n",
       "      <td>0</td>\n",
       "      <td>373450</td>\n",
       "      <td>8.0500</td>\n",
       "      <td>NaN</td>\n",
       "      <td>S</td>\n",
       "      <td>ALLEN</td>\n",
       "    </tr>\n",
       "  </tbody>\n",
       "</table>\n",
       "</div>"
      ],
      "text/plain": [
       "   PassengerId  Survived  Pclass  \\\n",
       "0            1         0       3   \n",
       "1            2         1       1   \n",
       "2            3         1       3   \n",
       "3            4         1       1   \n",
       "4            5         0       3   \n",
       "\n",
       "                                              Name     Sex  Age  SibSp  Parch  \\\n",
       "0                            BRAUND MR OWEN HARRIS    male   22      1      0   \n",
       "1  CUMINGS MRS JOHN BRADLEY FLORENCE BRIGGS THAYER  female   38      1      0   \n",
       "2                             HEIKKINEN MISS LAINA  female   26      0      0   \n",
       "3         FUTRELLE MRS JACQUES HEATH LILY MAY PEEL  female   35      1      0   \n",
       "4                           ALLEN MR WILLIAM HENRY    male   35      0      0   \n",
       "\n",
       "             Ticket     Fare Cabin Embarked familyLabel  \n",
       "0         A/5 21171   7.2500   NaN        S      BRAUND  \n",
       "1          PC 17599  71.2833   C85        C     CUMINGS  \n",
       "2  STON/O2. 3101282   7.9250   NaN        S   HEIKKINEN  \n",
       "3            113803  53.1000  C123        S    FUTRELLE  \n",
       "4            373450   8.0500   NaN        S       ALLEN  "
      ]
     },
     "execution_count": 8,
     "metadata": {},
     "output_type": "execute_result"
    }
   ],
   "source": [
    "train[\"Name\"] = train[\"Name\"].apply((lambda x : cleanNames(x)))\n",
    "train[\"familyLabel\"] = train[\"familyLabel\"].apply((lambda x : cleanNames(x)))\n",
    "test[\"Name\"] = test[\"Name\"].apply((lambda x : cleanNames(x)))\n",
    "test[\"familyLabel\"] = test[\"familyLabel\"].apply((lambda x : cleanNames(x)))\n",
    "\n",
    "# training data\n",
    "train[0:5]"
   ]
  },
  {
   "cell_type": "code",
   "execution_count": 9,
   "metadata": {
    "collapsed": false
   },
   "outputs": [
    {
     "data": {
      "text/html": [
       "<div>\n",
       "<table border=\"1\" class=\"dataframe\">\n",
       "  <thead>\n",
       "    <tr style=\"text-align: right;\">\n",
       "      <th></th>\n",
       "      <th>PassengerId</th>\n",
       "      <th>Pclass</th>\n",
       "      <th>Name</th>\n",
       "      <th>Sex</th>\n",
       "      <th>Age</th>\n",
       "      <th>SibSp</th>\n",
       "      <th>Parch</th>\n",
       "      <th>Ticket</th>\n",
       "      <th>Fare</th>\n",
       "      <th>Cabin</th>\n",
       "      <th>Embarked</th>\n",
       "      <th>familyLabel</th>\n",
       "    </tr>\n",
       "  </thead>\n",
       "  <tbody>\n",
       "    <tr>\n",
       "      <th>0</th>\n",
       "      <td>892</td>\n",
       "      <td>3</td>\n",
       "      <td>KELLY MR JAMES</td>\n",
       "      <td>male</td>\n",
       "      <td>34.5</td>\n",
       "      <td>0</td>\n",
       "      <td>0</td>\n",
       "      <td>330911</td>\n",
       "      <td>7.8292</td>\n",
       "      <td>NaN</td>\n",
       "      <td>Q</td>\n",
       "      <td>KELLY</td>\n",
       "    </tr>\n",
       "    <tr>\n",
       "      <th>1</th>\n",
       "      <td>893</td>\n",
       "      <td>3</td>\n",
       "      <td>WILKES MRS JAMES ELLEN NEEDS</td>\n",
       "      <td>female</td>\n",
       "      <td>47.0</td>\n",
       "      <td>1</td>\n",
       "      <td>0</td>\n",
       "      <td>363272</td>\n",
       "      <td>7.0000</td>\n",
       "      <td>NaN</td>\n",
       "      <td>S</td>\n",
       "      <td>WILKES</td>\n",
       "    </tr>\n",
       "    <tr>\n",
       "      <th>2</th>\n",
       "      <td>894</td>\n",
       "      <td>2</td>\n",
       "      <td>MYLES MR THOMAS FRANCIS</td>\n",
       "      <td>male</td>\n",
       "      <td>62.0</td>\n",
       "      <td>0</td>\n",
       "      <td>0</td>\n",
       "      <td>240276</td>\n",
       "      <td>9.6875</td>\n",
       "      <td>NaN</td>\n",
       "      <td>Q</td>\n",
       "      <td>MYLES</td>\n",
       "    </tr>\n",
       "    <tr>\n",
       "      <th>3</th>\n",
       "      <td>895</td>\n",
       "      <td>3</td>\n",
       "      <td>WIRZ MR ALBERT</td>\n",
       "      <td>male</td>\n",
       "      <td>27.0</td>\n",
       "      <td>0</td>\n",
       "      <td>0</td>\n",
       "      <td>315154</td>\n",
       "      <td>8.6625</td>\n",
       "      <td>NaN</td>\n",
       "      <td>S</td>\n",
       "      <td>WIRZ</td>\n",
       "    </tr>\n",
       "    <tr>\n",
       "      <th>4</th>\n",
       "      <td>896</td>\n",
       "      <td>3</td>\n",
       "      <td>HIRVONEN MRS ALEXANDER HELGA E LINDQVIST</td>\n",
       "      <td>female</td>\n",
       "      <td>22.0</td>\n",
       "      <td>1</td>\n",
       "      <td>1</td>\n",
       "      <td>3101298</td>\n",
       "      <td>12.2875</td>\n",
       "      <td>NaN</td>\n",
       "      <td>S</td>\n",
       "      <td>HIRVONEN</td>\n",
       "    </tr>\n",
       "  </tbody>\n",
       "</table>\n",
       "</div>"
      ],
      "text/plain": [
       "   PassengerId  Pclass                                      Name     Sex  \\\n",
       "0          892       3                            KELLY MR JAMES    male   \n",
       "1          893       3              WILKES MRS JAMES ELLEN NEEDS  female   \n",
       "2          894       2                   MYLES MR THOMAS FRANCIS    male   \n",
       "3          895       3                            WIRZ MR ALBERT    male   \n",
       "4          896       3  HIRVONEN MRS ALEXANDER HELGA E LINDQVIST  female   \n",
       "\n",
       "    Age  SibSp  Parch   Ticket     Fare Cabin Embarked familyLabel  \n",
       "0  34.5      0      0   330911   7.8292   NaN        Q       KELLY  \n",
       "1  47.0      1      0   363272   7.0000   NaN        S      WILKES  \n",
       "2  62.0      0      0   240276   9.6875   NaN        Q       MYLES  \n",
       "3  27.0      0      0   315154   8.6625   NaN        S        WIRZ  \n",
       "4  22.0      1      1  3101298  12.2875   NaN        S    HIRVONEN  "
      ]
     },
     "execution_count": 9,
     "metadata": {},
     "output_type": "execute_result"
    }
   ],
   "source": [
    "# test data\n",
    "test[0:5]"
   ]
  },
  {
   "cell_type": "code",
   "execution_count": 10,
   "metadata": {
    "collapsed": false
   },
   "outputs": [],
   "source": [
    "from pandasql import *\n",
    "\n",
    "pysqldf = lambda q: sqldf(q, globals())\n",
    "\n",
    "q1 = \"\"\"\n",
    "    SELECT familyLabel, \n",
    "            COUNT(familyLabel) as freq\n",
    "    FROM train\n",
    "    GROUP BY\n",
    "        familyLabel\n",
    "    ORDER BY\n",
    "        COUNT(familyLabel) DESC;\n",
    "\"\"\"\n",
    "q2 = \"\"\"\n",
    "    SELECT familyLabel, \n",
    "            COUNT(familyLabel) as freq\n",
    "    FROM test\n",
    "    GROUP BY\n",
    "        familyLabel\n",
    "    ORDER BY\n",
    "        COUNT(familyLabel) DESC;\n",
    "\"\"\"\n",
    "\n",
    "df = pysqldf(q1)\n",
    "\n",
    "#test[\"familyLabel\"].groupby(test[\"familyLabel\"]).count()"
   ]
  },
  {
   "cell_type": "code",
   "execution_count": 11,
   "metadata": {
    "collapsed": false
   },
   "outputs": [
    {
     "data": {
      "text/html": [
       "<div>\n",
       "<table border=\"1\" class=\"dataframe\">\n",
       "  <thead>\n",
       "    <tr style=\"text-align: right;\">\n",
       "      <th></th>\n",
       "      <th>familyLabel</th>\n",
       "      <th>freq</th>\n",
       "    </tr>\n",
       "  </thead>\n",
       "  <tbody>\n",
       "    <tr>\n",
       "      <th>0</th>\n",
       "      <td>ANDERSSON</td>\n",
       "      <td>9</td>\n",
       "    </tr>\n",
       "    <tr>\n",
       "      <th>1</th>\n",
       "      <td>SAGE</td>\n",
       "      <td>7</td>\n",
       "    </tr>\n",
       "    <tr>\n",
       "      <th>2</th>\n",
       "      <td>CARTER</td>\n",
       "      <td>6</td>\n",
       "    </tr>\n",
       "    <tr>\n",
       "      <th>3</th>\n",
       "      <td>GOODWIN</td>\n",
       "      <td>6</td>\n",
       "    </tr>\n",
       "    <tr>\n",
       "      <th>4</th>\n",
       "      <td>JOHNSON</td>\n",
       "      <td>6</td>\n",
       "    </tr>\n",
       "  </tbody>\n",
       "</table>\n",
       "</div>"
      ],
      "text/plain": [
       "  familyLabel  freq\n",
       "0   ANDERSSON     9\n",
       "1        SAGE     7\n",
       "2      CARTER     6\n",
       "3     GOODWIN     6\n",
       "4     JOHNSON     6"
      ]
     },
     "execution_count": 11,
     "metadata": {},
     "output_type": "execute_result"
    }
   ],
   "source": [
    "df[0:5]"
   ]
  },
  {
   "cell_type": "code",
   "execution_count": 12,
   "metadata": {
    "collapsed": false
   },
   "outputs": [
    {
     "name": "stdout",
     "output_type": "stream",
     "text": [
      "Training: Number of families: 667\n",
      "Training: Number of family memebers: 891\n"
     ]
    }
   ],
   "source": [
    "print(\"Training: Number of families: {}\".format(len(df)))\n",
    "print(\"Training: Number of family memebers: {}\".format(len(train[\"familyLabel\"])))"
   ]
  },
  {
   "cell_type": "code",
   "execution_count": 13,
   "metadata": {
    "collapsed": false
   },
   "outputs": [
    {
     "data": {
      "text/html": [
       "<div>\n",
       "<table border=\"1\" class=\"dataframe\">\n",
       "  <thead>\n",
       "    <tr style=\"text-align: right;\">\n",
       "      <th></th>\n",
       "      <th>familyLabel</th>\n",
       "      <th>freq</th>\n",
       "    </tr>\n",
       "  </thead>\n",
       "  <tbody>\n",
       "    <tr>\n",
       "      <th>0</th>\n",
       "      <td>ASPLUND</td>\n",
       "      <td>4</td>\n",
       "    </tr>\n",
       "    <tr>\n",
       "      <th>1</th>\n",
       "      <td>DAVIES</td>\n",
       "      <td>4</td>\n",
       "    </tr>\n",
       "    <tr>\n",
       "      <th>2</th>\n",
       "      <td>SAGE</td>\n",
       "      <td>4</td>\n",
       "    </tr>\n",
       "    <tr>\n",
       "      <th>3</th>\n",
       "      <td>THOMAS</td>\n",
       "      <td>4</td>\n",
       "    </tr>\n",
       "    <tr>\n",
       "      <th>4</th>\n",
       "      <td>WARE</td>\n",
       "      <td>4</td>\n",
       "    </tr>\n",
       "  </tbody>\n",
       "</table>\n",
       "</div>"
      ],
      "text/plain": [
       "  familyLabel  freq\n",
       "0     ASPLUND     4\n",
       "1      DAVIES     4\n",
       "2        SAGE     4\n",
       "3      THOMAS     4\n",
       "4        WARE     4"
      ]
     },
     "execution_count": 13,
     "metadata": {},
     "output_type": "execute_result"
    }
   ],
   "source": [
    "df = pysqldf(q2)\n",
    "df[0:5]"
   ]
  },
  {
   "cell_type": "code",
   "execution_count": 14,
   "metadata": {
    "collapsed": false
   },
   "outputs": [
    {
     "name": "stdout",
     "output_type": "stream",
     "text": [
      "Test: Number of families: 352\n",
      "Test: Number of family memebers: 418\n"
     ]
    }
   ],
   "source": [
    "print(\"Test: Number of families: {}\".format(len(df)))\n",
    "print(\"Test: Number of family memebers: {}\".format(len(test[\"familyLabel\"])))"
   ]
  },
  {
   "cell_type": "markdown",
   "metadata": {},
   "source": [
    "##Step 3: Metrics or Algorithms for Comparing String Values"
   ]
  },
  {
   "cell_type": "markdown",
   "metadata": {},
   "source": [
    "The paper we cited specifies the following in regards to comparing string values:\n",
    "\n",
    "    \"The GER framework has a library of different metrics, or algorithms, for comparing\n",
    "    string values, including: Dice's coefficient; Soundex; Metaphone; Caverphone;\n",
    "    regular expression comparison; exact match; Levenshtein; Nysiis; and difflibratio, \n",
    "    which is the sequence similarity ratio calculated by the SequenceMatcher class in \n",
    "    the difflib Python library.\" (p. 50)\n",
    "    \n",
    "These comparison metrics all accomplish slightly different things. Given that we expect,\n",
    "strings that are mostly different except for the last name (which may be mispelled) the\n",
    "Levenshtein edit-distance algorithm makes the most sense. Let's also try difflibratio as well. We are\n",
    "looking for algorithms that focus on string similarity rather than how those strings \n",
    "sound when pronounced."
   ]
  },
  {
   "cell_type": "code",
   "execution_count": 15,
   "metadata": {
    "collapsed": false
   },
   "outputs": [
    {
     "name": "stdout",
     "output_type": "stream",
     "text": [
      "Edit distance: 15\n",
      "DiffLibRatio: 0.0\n"
     ]
    }
   ],
   "source": [
    "from nltk.metrics.distance import edit_distance\n",
    "from difflib import SequenceMatcher\n",
    "\n",
    "# let's show a couple examples\n",
    "sm = SequenceMatcher(train[\"Name\"][0], train[\"familyLabel\"][0])\n",
    "\n",
    "print(\"Edit distance: {}\".format(edit_distance(train[\"Name\"][0],train[\"familyLabel\"][0])))\n",
    "print(\"DiffLibRatio: {}\".format(sm.ratio()))\n"
   ]
  },
  {
   "cell_type": "markdown",
   "metadata": {},
   "source": [
    "##Step 4: Train SVM"
   ]
  },
  {
   "cell_type": "markdown",
   "metadata": {},
   "source": [
    "The paper specifies two different configurations for the GER framework:\n",
    "\n",
    "1. Used only the basic attributes of the movie, such as the title or synopsis\n",
    "1. Used the basic attributes of the movie and the asssociation between a movie and its actors to determine if the two movies matched. \n",
    "\n",
    "This framework appears to be missing a couple details; namely:\n",
    "\n",
    "1. Is this framework run for each potential pair?\n",
    "\n",
    "I'll start by modifying the paper slightly just to get something working then revise later."
   ]
  },
  {
   "cell_type": "code",
   "execution_count": 16,
   "metadata": {
    "collapsed": true
   },
   "outputs": [],
   "source": [
    "# token frequency, inverse document frequency (TF IDF) with svm using whitespace tokenizer\n",
    "\n",
    "from sklearn.feature_extraction.text import CountVectorizer, TfidfTransformer\n",
    "from sklearn.linear_model import SGDClassifier\n",
    "from sklearn.pipeline import Pipeline\n",
    "from sklearn.grid_search import GridSearchCV\n",
    "\n",
    "from nltk.tokenize import WhitespaceTokenizer\n",
    "\n",
    "import numpy as np\n",
    "\n",
    "%matplotlib inline\n",
    "import matplotlib.pyplot as plt\n"
   ]
  },
  {
   "cell_type": "markdown",
   "metadata": {},
   "source": [
    "## First Attempt\n",
    "\n",
    "Here I used the generic approach from scikit learn documentation. The research paper did not explain how they turned words into data so I used some generic approaches.\n",
    "\n",
    "My point of departure is to first make sure I'm using the multi-class svm correctly. "
   ]
  },
  {
   "cell_type": "code",
   "execution_count": 17,
   "metadata": {
    "collapsed": true
   },
   "outputs": [],
   "source": [
    "# configure tokenizer\n",
    "\n",
    "def tokenize(string):\n",
    "    \"\"\" Returns list after whitespace tokenization\"\"\"\n",
    "    return WhitespaceTokenizer().tokenize(string)\n"
   ]
  },
  {
   "cell_type": "code",
   "execution_count": 18,
   "metadata": {
    "collapsed": false
   },
   "outputs": [],
   "source": [
    "# define a pipeline combining a text feature extractor with a simple\n",
    "# classifier\n",
    "text_clf = Pipeline([\n",
    "    ('vect', CountVectorizer()),\n",
    "    ('tfidf',  TfidfTransformer()),\n",
    "    ('clf', SGDClassifier(loss='hinge', penalty='l2',\n",
    "                         alpha=1e-3, n_iter=5, random_state=42))\n",
    "])\n"
   ]
  },
  {
   "cell_type": "code",
   "execution_count": 19,
   "metadata": {
    "collapsed": false
   },
   "outputs": [],
   "source": [
    "_ = text_clf.fit(train[\"Name\"], train[\"familyLabel\"])"
   ]
  },
  {
   "cell_type": "code",
   "execution_count": 20,
   "metadata": {
    "collapsed": false
   },
   "outputs": [],
   "source": [
    "test[\"prediction\"] = text_clf.predict(test[\"Name\"])"
   ]
  },
  {
   "cell_type": "code",
   "execution_count": 21,
   "metadata": {
    "collapsed": true
   },
   "outputs": [],
   "source": [
    "\n",
    "\n",
    "def happyScatter(df, colname):\n",
    "    \"\"\" Turn strings into a happy scatterplot \"\"\"\n",
    "    nums  = {}\n",
    "    grouping = 1\n",
    "    \n",
    "    for name in df[colname]:\n",
    "        if name not in nums:\n",
    "            nums[name] = 1\n",
    "        else:\n",
    "            nums[name] += 1\n",
    "            \n",
    "    newcol = []\n",
    "    \n",
    "    for group in nums.keys():\n",
    "        gr = grouping\n",
    "        \n",
    "        while nums[group] > 0:\n",
    "            newcol.append(gr)\n",
    "            nums[group] -= 1\n",
    "            \n",
    "        grouping += 1\n",
    "            \n",
    "    return newcol\n",
    "    \n",
    "    \n",
    "    \n",
    "    "
   ]
  },
  {
   "cell_type": "code",
   "execution_count": 22,
   "metadata": {
    "collapsed": false
   },
   "outputs": [],
   "source": [
    "test['scatterPredict'] = happyScatter(test, 'prediction')\n",
    "test['scatterFamilyLabel'] = happyScatter(test, 'familyLabel')\n",
    "test['scatterName'] = happyScatter(test, 'Name')"
   ]
  },
  {
   "cell_type": "code",
   "execution_count": 23,
   "metadata": {
    "collapsed": false
   },
   "outputs": [
    {
     "data": {
      "text/html": [
       "<div>\n",
       "<table border=\"1\" class=\"dataframe\">\n",
       "  <thead>\n",
       "    <tr style=\"text-align: right;\">\n",
       "      <th></th>\n",
       "      <th>familyLabel</th>\n",
       "      <th>prediction</th>\n",
       "    </tr>\n",
       "  </thead>\n",
       "  <tbody>\n",
       "    <tr>\n",
       "      <th>0</th>\n",
       "      <td>KELLY</td>\n",
       "      <td>KELLY</td>\n",
       "    </tr>\n",
       "    <tr>\n",
       "      <th>1</th>\n",
       "      <td>WILKES</td>\n",
       "      <td>HOCKING</td>\n",
       "    </tr>\n",
       "    <tr>\n",
       "      <th>2</th>\n",
       "      <td>MYLES</td>\n",
       "      <td>STEAD</td>\n",
       "    </tr>\n",
       "    <tr>\n",
       "      <th>3</th>\n",
       "      <td>WIRZ</td>\n",
       "      <td>DICK</td>\n",
       "    </tr>\n",
       "    <tr>\n",
       "      <th>4</th>\n",
       "      <td>HIRVONEN</td>\n",
       "      <td>HIRVONEN</td>\n",
       "    </tr>\n",
       "  </tbody>\n",
       "</table>\n",
       "</div>"
      ],
      "text/plain": [
       "  familyLabel prediction\n",
       "0       KELLY      KELLY\n",
       "1      WILKES    HOCKING\n",
       "2       MYLES      STEAD\n",
       "3        WIRZ       DICK\n",
       "4    HIRVONEN   HIRVONEN"
      ]
     },
     "execution_count": 23,
     "metadata": {},
     "output_type": "execute_result"
    }
   ],
   "source": [
    "test[[\"familyLabel\", \"prediction\"]][0:5]"
   ]
  },
  {
   "cell_type": "code",
   "execution_count": 24,
   "metadata": {
    "collapsed": false
   },
   "outputs": [],
   "source": [
    "# plotting the svm classifiers\n",
    "#plt.figure(figsize=(8, 8))\n",
    "\n",
    "#plt.scatter()\n",
    "#plt.show()"
   ]
  },
  {
   "cell_type": "code",
   "execution_count": 28,
   "metadata": {
    "collapsed": false
   },
   "outputs": [
    {
     "data": {
      "text/plain": [
       "Index([u'PassengerId', u'Pclass', u'Name', u'Sex', u'Age', u'SibSp', u'Parch',\n",
       "       u'Ticket', u'Fare', u'Cabin', u'Embarked', u'familyLabel',\n",
       "       u'prediction', u'scatterPredict', u'scatterFamilyLabel',\n",
       "       u'scatterName'],\n",
       "      dtype='object')"
      ]
     },
     "execution_count": 28,
     "metadata": {},
     "output_type": "execute_result"
    }
   ],
   "source": [
    "test.columns"
   ]
  },
  {
   "cell_type": "code",
   "execution_count": 52,
   "metadata": {
    "collapsed": false
   },
   "outputs": [],
   "source": [
    "names = {}\n",
    "index = 0\n",
    "\n",
    "def nameIndex(item):\n",
    "    global names\n",
    "    global index\n",
    "    \n",
    "    if item in names:\n",
    "        return names[item]\n",
    "    else:\n",
    "        index += 1\n",
    "        names[item] = index\n",
    "        return names[item]\n",
    "        "
   ]
  },
  {
   "cell_type": "code",
   "execution_count": 50,
   "metadata": {
    "collapsed": true
   },
   "outputs": [],
   "source": [
    "test[\"familyIndex\"] = test[\"familyLabel\"].apply((lambda x: nameIndex(x)))"
   ]
  },
  {
   "cell_type": "code",
   "execution_count": 57,
   "metadata": {
    "collapsed": true
   },
   "outputs": [],
   "source": [
    "test[\"predictIndex\"] = test[\"prediction\"].apply((lambda x: nameIndex(x)))"
   ]
  },
  {
   "cell_type": "code",
   "execution_count": 130,
   "metadata": {
    "collapsed": false
   },
   "outputs": [
    {
     "data": {
      "text/plain": [
       "<matplotlib.axes._subplots.AxesSubplot at 0x7f136444fc90>"
      ]
     },
     "execution_count": 130,
     "metadata": {},
     "output_type": "execute_result"
    },
    {
     "data": {
      "image/png": "[encoded data removed]",
      "text/plain": [
       "<matplotlib.figure.Figure at 0x7f1364ce0f90>"
      ]
     },
     "metadata": {},
     "output_type": "display_data"
    }
   ],
   "source": [
    "test[\"predictIndex\"].hist(alpha=0.75, color=\"red\")\n",
    "test[\"familyIndex\"].hist(alpha=0.5)\n",
    "\n",
    "# Actual vs. Predicted overlap of families"
   ]
  },
  {
   "cell_type": "markdown",
   "metadata": {},
   "source": [
    "This looks like the svm is choosing a smaller number of classes (by about 100) then the amount of family names in the test set. On the **x-axis**, each number corresponds to a family name. The **y-axis** is how many times that family name was predicted (in red) or exists in the data (in blue). "
   ]
  },
  {
   "cell_type": "code",
   "execution_count": 38,
   "metadata": {
    "collapsed": false
   },
   "outputs": [],
   "source": [
    "test[\"matchy\"] = 1*(test[\"prediction\"] == test[\"familyLabel\"])"
   ]
  },
  {
   "cell_type": "code",
   "execution_count": 65,
   "metadata": {
    "collapsed": false
   },
   "outputs": [
    {
     "data": {
      "text/plain": [
       "<matplotlib.collections.PathCollection at 0x7f1364d8bdd0>"
      ]
     },
     "execution_count": 65,
     "metadata": {},
     "output_type": "execute_result"
    },
    {
     "data": {
      "image/png": "[encoded data removed]",
      "text/plain": [
       "<matplotlib.figure.Figure at 0x7f1364e5f950>"
      ]
     },
     "metadata": {},
     "output_type": "display_data"
    }
   ],
   "source": [
    "N = 50\n",
    "colors = np.random.rand(N)\n",
    "\n",
    "plt.scatter(test[\"familyIndex\"], test[\"predictIndex\"], alpha=0.5)"
   ]
  },
  {
   "cell_type": "code",
   "execution_count": 66,
   "metadata": {
    "collapsed": true
   },
   "outputs": [],
   "source": [
    "def evaluation(name, prediction, familyLabel):\n",
    "    \"\"\" Evaluate as proportion correctly labeled \"\"\"\n",
    "    score = float(name[prediction == familyLabel].count())/ name.count()\n",
    "    return round((score * 100),2)"
   ]
  },
  {
   "cell_type": "code",
   "execution_count": 67,
   "metadata": {
    "collapsed": false
   },
   "outputs": [
    {
     "data": {
      "text/plain": [
       "39.95"
      ]
     },
     "execution_count": 67,
     "metadata": {},
     "output_type": "execute_result"
    }
   ],
   "source": [
    "evaluation(test[\"Name\"], test[\"prediction\"], test[\"familyLabel\"])"
   ]
  },
  {
   "cell_type": "markdown",
   "metadata": {},
   "source": [
    "## Second Attempt \n",
    "\n",
    "Here I'm going to continue to make an effort to debug the svm algorithm as much as possible before altering any of the features. If I make a decision like 'needs more data' or 'needs more features', I want to be able to show why I came to that conclusion based on model output."
   ]
  },
  {
   "cell_type": "code",
   "execution_count": 156,
   "metadata": {
    "collapsed": true
   },
   "outputs": [],
   "source": [
    "from sklearn.svm import SVC\n",
    "\n",
    "text_clf = Pipeline([\n",
    "    ('vect', CountVectorizer()),\n",
    "    ('tfidf',  TfidfTransformer()),\n",
    "    ('clf', SVC())\n",
    "])"
   ]
  },
  {
   "cell_type": "code",
   "execution_count": 157,
   "metadata": {
    "collapsed": true
   },
   "outputs": [],
   "source": [
    "_ = text_clf.fit(train[\"Name\"], train[\"familyLabel\"])"
   ]
  },
  {
   "cell_type": "code",
   "execution_count": 158,
   "metadata": {
    "collapsed": true
   },
   "outputs": [],
   "source": [
    "test[\"prediction\"] = text_clf.predict(test[\"Name\"])"
   ]
  },
  {
   "cell_type": "code",
   "execution_count": 164,
   "metadata": {
    "collapsed": false
   },
   "outputs": [
    {
     "data": {
      "text/plain": [
       "<matplotlib.axes._subplots.AxesSubplot at 0x7f1367dafa50>"
      ]
     },
     "execution_count": 164,
     "metadata": {},
     "output_type": "execute_result"
    },
    {
     "data": {
      "image/png": "[encoded data removed]",
      "text/plain": [
       "<matplotlib.figure.Figure at 0x7f1367db9f50>"
      ]
     },
     "metadata": {},
     "output_type": "display_data"
    }
   ],
   "source": [
    "test[\"familyIndex\"] = test[\"familyLabel\"].apply((lambda x: nameIndex(x)))\n",
    "test[\"predictIndex\"] = test[\"prediction\"].apply((lambda x: nameIndex(x)))\n",
    "\n",
    "test[\"predictIndex\"].hist(alpha=0.75, color=\"red\")\n",
    "\n",
    "# Actual vs. Predicted overlap of families"
   ]
  },
  {
   "cell_type": "code",
   "execution_count": 165,
   "metadata": {
    "collapsed": false
   },
   "outputs": [
    {
     "data": {
      "text/plain": [
       "<matplotlib.axes._subplots.AxesSubplot at 0x7f1367dc49d0>"
      ]
     },
     "execution_count": 165,
     "metadata": {},
     "output_type": "execute_result"
    },
    {
     "data": {
      "image/png": "[encoded data removed]",
      "text/plain": [
       "<matplotlib.figure.Figure at 0x7f1367d5acd0>"
      ]
     },
     "metadata": {},
     "output_type": "display_data"
    }
   ],
   "source": [
    "test[\"familyIndex\"].hist(alpha=0.5)"
   ]
  },
  {
   "cell_type": "markdown",
   "metadata": {},
   "source": [
    "Accuracy has been improved by about 10% but I wasn't able to get the classifier to spread out the predictions more evenly. The multiclass support is handled according to a one-vs-one scheme."
   ]
  },
  {
   "cell_type": "code",
   "execution_count": 159,
   "metadata": {
    "collapsed": false
   },
   "outputs": [
    {
     "data": {
      "text/plain": [
       "0.48"
      ]
     },
     "execution_count": 159,
     "metadata": {},
     "output_type": "execute_result"
    }
   ],
   "source": [
    "evaluation(test[\"Name\"], test[\"prediction\"], test[\"familyLabel\"])"
   ]
  },
  {
   "cell_type": "markdown",
   "metadata": {},
   "source": [
    "##Step 5: Tune SVM with genetic algorithm"
   ]
  },
  {
   "cell_type": "markdown",
   "metadata": {},
   "source": [
    "##Step 6: Figure out bad values with Q-learning algorithm"
   ]
  },
  {
   "cell_type": "markdown",
   "metadata": {},
   "source": [
    "##Step 7: Construct Bayesian network of generic feature resolvers"
   ]
  },
  {
   "cell_type": "markdown",
   "metadata": {},
   "source": [
    "##Step 8: Use genetic algorithm to find optimal Bayes Network"
   ]
  },
  {
   "cell_type": "code",
   "execution_count": null,
   "metadata": {
    "collapsed": true
   },
   "outputs": [],
   "source": []
  }
 ],
 "metadata": {
  "kernelspec": {
   "display_name": "Python 2",
   "language": "python",
   "name": "python2"
  },
  "language_info": {
   "codemirror_mode": {
    "name": "ipython",
    "version": 2
   },
   "file_extension": ".py",
   "mimetype": "text/x-python",
   "name": "python",
   "nbconvert_exporter": "python",
   "pygments_lexer": "ipython2",
   "version": "2.7.10"
  }
 },
 "nbformat": 4,
 "nbformat_minor": 0
}
