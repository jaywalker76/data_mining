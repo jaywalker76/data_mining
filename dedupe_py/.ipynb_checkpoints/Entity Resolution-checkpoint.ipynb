{
 "cells": [
  {
   "cell_type": "markdown",
   "metadata": {},
   "source": [
    "Entity Resolution\n",
    "=========\n",
    "\n",
    "This provides an overview of why and how Entity Resolution is becoming an important \n",
    "discipline in [Computer Science and Data Science](http://www.datacommunitydc.org/blog/2013/08/entity-resolution-for-big-data). This notebook explores why we need entity resolution and how to do it. Brief explanations\n",
    "are given regarding commerical options. Open source options are also discussed. Some of these open\n",
    "source options are demonstrated using Python.\n",
    "\n",
    "## Why do we need entity resolution?\n",
    "\n",
    "When doing a statistical analysis, you need to first identify your units of analysis. \n",
    "Borrowing from Allison ([Multiple Regression: A Primer](http://www.amazon.com/Multiple-Regression-Research-Methods-Statistics/dp/0761985336), p. 7):\n",
    "\n",
    "> To do a regression analysis, you first need a set of cases (also called units of analysis or observations).\n",
    "> In the social sciences, the cases are most often persons, but they could also be organizations, countries, or\n",
    "> other groups. In economics, the cases are sometimes units of time, like years or quarters. For each case, you\n",
    "> need measurements on all of the variables in the regession equation. \n",
    "\n",
    "Often, our data does not come to us in one table; ready for analysis. In this situation, we also need to be\n",
    "aware of database concepts.In web development, we can say that we're concerned with defining the database \n",
    "model (see the Python web framework Django for [their model specifications](https://docs.djangoproject.com/en/1.8/topics/db/models/)). In the case of Entity Resolution, we are concerned with two concepts:\n",
    "\n",
    "1. Primary Keys\n",
    "1. Foreign Keys\n",
    "\n",
    "In Django, each model requires exactly one field to have a primary key. A foreign key specifies a one-to-many \n",
    "relationship in Django. They have separate field types for one-to-one and many-to-many relationships between models. For our purposes we will exclude many-to-many relationships and include one-to-one relationships in our discussion of the Foreign key. The following is a demonstration from the [Django Documenation of the Foreign key](https://docs.djangoproject.com/en/1.8/ref/models/fields/#django.db.models.ForeignKey). \n",
    "\n",
    "``` Python\n",
    "from django.db import models\n",
    "\n",
    "class Car(models.Model):\n",
    "    manufacturer = models.ForeignKey('Manufacturer')\n",
    "    # ...\n",
    "\n",
    "class Manufacturer(models.Model):\n",
    "    # ...\n",
    "    pass\n",
    "```\n",
    "\n",
    "We can see that each type of car could have multiple manufacturers. Several car manufacturers make mid-size sedans. Those manufacturers are reflected in the above Django model. The database models are not specific to Python but it does help to have concrete examples with easily accessible documentation.\n",
    "\n",
    "When conducting a statistical analysis, we want to run our model on one table. Before conducting the analysis, we must be sure of the following:\n",
    "\n",
    "1. Each unit of analysis occurs only once \n",
    "  * Primary keys must be present and unique\n",
    "1. Each unit of analysis includes variables that have been correctly mapped from their original tables\n",
    "  * Foreign keys must be present\n",
    "\n",
    "Entity Resolution is a tool to define primary and foreign keys when these relationships are not previously well defined. For example, let's say people start using the web application described above. They populate the models with cars and\n",
    "the manufacturers who produce them. The developers did not include standard names for cars and manufacturers because\n",
    "they were unsure of what the future may hold. As the data scientist arrives on scene, they find that people have spelled\n",
    "the manufacturer \"GMC\" in a variety of ways like \"General Motors Corporation\" and \"General Motors\". People have also \n",
    "mispelled the manufacturer name. Actually, they have done this across much of the manufacturer and car information. \n",
    "\n",
    "Given the state of this manufacturer/car data, the data scientist is no longer able to ascertain their unit of analysis. They must recreate primary and foreign keys before they can perform their statistical analysis. \n",
    "\n",
    "  \n",
    "**TL;DR** We can't begin our analysis unless we have defined and identified quantifiable units of analysis. Data often shows up in multiple tables, we need to know about primary and foreign keys. We want to run our statistical analysis on a single table. We must determine primary and foreign keys before we can manipulate our data to perform the statistical analysis. Entity resolution can be used to establish primary and foreign keys when those relationships are not previously well defined.\n",
    "\n",
    "\n",
    "\n",
    "\n",
    "## How can we accomplish entity resolution?"
   ]
  },
  {
   "cell_type": "code",
   "execution_count": null,
   "metadata": {
    "collapsed": true
   },
   "outputs": [],
   "source": []
  }
 ],
 "metadata": {
  "kernelspec": {
   "display_name": "Python 3",
   "language": "python",
   "name": "python3"
  },
  "language_info": {
   "codemirror_mode": {
    "name": "ipython",
    "version": 3
   },
   "file_extension": ".py",
   "mimetype": "text/x-python",
   "name": "python",
   "nbconvert_exporter": "python",
   "pygments_lexer": "ipython3",
   "version": "3.5.0"
  }
 },
 "nbformat": 4,
 "nbformat_minor": 0
}
